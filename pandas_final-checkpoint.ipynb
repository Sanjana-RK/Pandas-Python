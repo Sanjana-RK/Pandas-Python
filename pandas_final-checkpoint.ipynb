{
 "cells": [
  {
   "cell_type": "code",
   "execution_count": 1,
   "metadata": {},
   "outputs": [],
   "source": [
    "import pandas as pd\n",
    "import numpy as np\n"
   ]
  },
  {
   "cell_type": "code",
   "execution_count": 2,
   "metadata": {},
   "outputs": [],
   "source": [
    "#To create a series\n",
    "s = pd.Series([1,2,3,4,5,6,np.nan,8,9,10])"
   ]
  },
  {
   "cell_type": "code",
   "execution_count": 3,
   "metadata": {},
   "outputs": [
    {
     "data": {
      "text/plain": [
       "0     1.0\n",
       "1     2.0\n",
       "2     3.0\n",
       "3     4.0\n",
       "4     5.0\n",
       "5     6.0\n",
       "6     NaN\n",
       "7     8.0\n",
       "8     9.0\n",
       "9    10.0\n",
       "dtype: float64"
      ]
     },
     "execution_count": 3,
     "metadata": {},
     "output_type": "execute_result"
    }
   ],
   "source": [
    "#To see the content of series\n",
    "s"
   ]
  },
  {
   "cell_type": "code",
   "execution_count": 4,
   "metadata": {},
   "outputs": [],
   "source": [
    "d = pd.date_range('20200301',periods = 10)"
   ]
  },
  {
   "cell_type": "code",
   "execution_count": 5,
   "metadata": {},
   "outputs": [
    {
     "data": {
      "text/plain": [
       "DatetimeIndex(['2020-03-01', '2020-03-02', '2020-03-03', '2020-03-04',\n",
       "               '2020-03-05', '2020-03-06', '2020-03-07', '2020-03-08',\n",
       "               '2020-03-09', '2020-03-10'],\n",
       "              dtype='datetime64[ns]', freq='D')"
      ]
     },
     "execution_count": 5,
     "metadata": {},
     "output_type": "execute_result"
    }
   ],
   "source": [
    "#To print the datetime index\n",
    "d"
   ]
  },
  {
   "cell_type": "code",
   "execution_count": 6,
   "metadata": {},
   "outputs": [],
   "source": [
    "#To create a data frame -SANJANA RK\n",
    "df = pd.DataFrame(np.random.randn(10,4),index=d,columns=['A','B','C','D'])"
   ]
  },
  {
   "cell_type": "code",
   "execution_count": 7,
   "metadata": {},
   "outputs": [
    {
     "data": {
      "text/html": [
       "<div>\n",
       "<style scoped>\n",
       "    .dataframe tbody tr th:only-of-type {\n",
       "        vertical-align: middle;\n",
       "    }\n",
       "\n",
       "    .dataframe tbody tr th {\n",
       "        vertical-align: top;\n",
       "    }\n",
       "\n",
       "    .dataframe thead th {\n",
       "        text-align: right;\n",
       "    }\n",
       "</style>\n",
       "<table border=\"1\" class=\"dataframe\">\n",
       "  <thead>\n",
       "    <tr style=\"text-align: right;\">\n",
       "      <th></th>\n",
       "      <th>A</th>\n",
       "      <th>B</th>\n",
       "      <th>C</th>\n",
       "      <th>D</th>\n",
       "    </tr>\n",
       "  </thead>\n",
       "  <tbody>\n",
       "    <tr>\n",
       "      <th>2020-03-01</th>\n",
       "      <td>0.169885</td>\n",
       "      <td>0.556044</td>\n",
       "      <td>-0.494149</td>\n",
       "      <td>0.654055</td>\n",
       "    </tr>\n",
       "    <tr>\n",
       "      <th>2020-03-02</th>\n",
       "      <td>-1.283801</td>\n",
       "      <td>-0.795727</td>\n",
       "      <td>0.176935</td>\n",
       "      <td>-0.984743</td>\n",
       "    </tr>\n",
       "    <tr>\n",
       "      <th>2020-03-03</th>\n",
       "      <td>-1.048930</td>\n",
       "      <td>-0.005403</td>\n",
       "      <td>-1.268762</td>\n",
       "      <td>-0.214236</td>\n",
       "    </tr>\n",
       "    <tr>\n",
       "      <th>2020-03-04</th>\n",
       "      <td>-0.505915</td>\n",
       "      <td>0.066754</td>\n",
       "      <td>-1.143280</td>\n",
       "      <td>-1.994140</td>\n",
       "    </tr>\n",
       "    <tr>\n",
       "      <th>2020-03-05</th>\n",
       "      <td>-1.856638</td>\n",
       "      <td>-3.231653</td>\n",
       "      <td>1.743687</td>\n",
       "      <td>-0.721915</td>\n",
       "    </tr>\n",
       "    <tr>\n",
       "      <th>2020-03-06</th>\n",
       "      <td>0.876719</td>\n",
       "      <td>-0.722835</td>\n",
       "      <td>-0.591404</td>\n",
       "      <td>-0.488666</td>\n",
       "    </tr>\n",
       "    <tr>\n",
       "      <th>2020-03-07</th>\n",
       "      <td>0.621056</td>\n",
       "      <td>0.667029</td>\n",
       "      <td>1.115409</td>\n",
       "      <td>-0.267587</td>\n",
       "    </tr>\n",
       "    <tr>\n",
       "      <th>2020-03-08</th>\n",
       "      <td>-0.598637</td>\n",
       "      <td>-0.330759</td>\n",
       "      <td>1.376479</td>\n",
       "      <td>-1.083784</td>\n",
       "    </tr>\n",
       "    <tr>\n",
       "      <th>2020-03-09</th>\n",
       "      <td>-0.280665</td>\n",
       "      <td>-0.690525</td>\n",
       "      <td>0.301560</td>\n",
       "      <td>0.272285</td>\n",
       "    </tr>\n",
       "    <tr>\n",
       "      <th>2020-03-10</th>\n",
       "      <td>1.128275</td>\n",
       "      <td>-1.096287</td>\n",
       "      <td>-0.213912</td>\n",
       "      <td>-1.500499</td>\n",
       "    </tr>\n",
       "  </tbody>\n",
       "</table>\n",
       "</div>"
      ],
      "text/plain": [
       "                   A         B         C         D\n",
       "2020-03-01  0.169885  0.556044 -0.494149  0.654055\n",
       "2020-03-02 -1.283801 -0.795727  0.176935 -0.984743\n",
       "2020-03-03 -1.048930 -0.005403 -1.268762 -0.214236\n",
       "2020-03-04 -0.505915  0.066754 -1.143280 -1.994140\n",
       "2020-03-05 -1.856638 -3.231653  1.743687 -0.721915\n",
       "2020-03-06  0.876719 -0.722835 -0.591404 -0.488666\n",
       "2020-03-07  0.621056  0.667029  1.115409 -0.267587\n",
       "2020-03-08 -0.598637 -0.330759  1.376479 -1.083784\n",
       "2020-03-09 -0.280665 -0.690525  0.301560  0.272285\n",
       "2020-03-10  1.128275 -1.096287 -0.213912 -1.500499"
      ]
     },
     "execution_count": 7,
     "metadata": {},
     "output_type": "execute_result"
    }
   ],
   "source": [
    "#to display the DataFrame\n",
    "df"
   ]
  },
  {
   "cell_type": "code",
   "execution_count": 8,
   "metadata": {},
   "outputs": [],
   "source": [
    "df1 = pd.DataFrame({'A':[1,2,3,4],\n",
    "                  'B':pd.Timestamp('20200301'),\n",
    "                  'c':pd.Series(1,index=list(range(4)),dtype='float32'),\n",
    "                  'D':np.array([5]*4,dtype='int32'),\n",
    "                  'E':pd.Categorical(['true','False','True','False']),\n",
    "                  'F':'Sanjanark'})"
   ]
  },
  {
   "cell_type": "code",
   "execution_count": 9,
   "metadata": {},
   "outputs": [
    {
     "data": {
      "text/html": [
       "<div>\n",
       "<style scoped>\n",
       "    .dataframe tbody tr th:only-of-type {\n",
       "        vertical-align: middle;\n",
       "    }\n",
       "\n",
       "    .dataframe tbody tr th {\n",
       "        vertical-align: top;\n",
       "    }\n",
       "\n",
       "    .dataframe thead th {\n",
       "        text-align: right;\n",
       "    }\n",
       "</style>\n",
       "<table border=\"1\" class=\"dataframe\">\n",
       "  <thead>\n",
       "    <tr style=\"text-align: right;\">\n",
       "      <th></th>\n",
       "      <th>A</th>\n",
       "      <th>B</th>\n",
       "      <th>c</th>\n",
       "      <th>D</th>\n",
       "      <th>E</th>\n",
       "      <th>F</th>\n",
       "    </tr>\n",
       "  </thead>\n",
       "  <tbody>\n",
       "    <tr>\n",
       "      <th>0</th>\n",
       "      <td>1</td>\n",
       "      <td>2020-03-01</td>\n",
       "      <td>1.0</td>\n",
       "      <td>5</td>\n",
       "      <td>true</td>\n",
       "      <td>Sanjanark</td>\n",
       "    </tr>\n",
       "    <tr>\n",
       "      <th>1</th>\n",
       "      <td>2</td>\n",
       "      <td>2020-03-01</td>\n",
       "      <td>1.0</td>\n",
       "      <td>5</td>\n",
       "      <td>False</td>\n",
       "      <td>Sanjanark</td>\n",
       "    </tr>\n",
       "    <tr>\n",
       "      <th>2</th>\n",
       "      <td>3</td>\n",
       "      <td>2020-03-01</td>\n",
       "      <td>1.0</td>\n",
       "      <td>5</td>\n",
       "      <td>True</td>\n",
       "      <td>Sanjanark</td>\n",
       "    </tr>\n",
       "    <tr>\n",
       "      <th>3</th>\n",
       "      <td>4</td>\n",
       "      <td>2020-03-01</td>\n",
       "      <td>1.0</td>\n",
       "      <td>5</td>\n",
       "      <td>False</td>\n",
       "      <td>Sanjanark</td>\n",
       "    </tr>\n",
       "  </tbody>\n",
       "</table>\n",
       "</div>"
      ],
      "text/plain": [
       "   A          B    c  D      E          F\n",
       "0  1 2020-03-01  1.0  5   true  Sanjanark\n",
       "1  2 2020-03-01  1.0  5  False  Sanjanark\n",
       "2  3 2020-03-01  1.0  5   True  Sanjanark\n",
       "3  4 2020-03-01  1.0  5  False  Sanjanark"
      ]
     },
     "execution_count": 9,
     "metadata": {},
     "output_type": "execute_result"
    }
   ],
   "source": [
    "#Our dataframe is \n",
    "df1"
   ]
  },
  {
   "cell_type": "code",
   "execution_count": 10,
   "metadata": {},
   "outputs": [
    {
     "data": {
      "text/plain": [
       "A             int64\n",
       "B    datetime64[ns]\n",
       "c           float32\n",
       "D             int32\n",
       "E          category\n",
       "F            object\n",
       "dtype: object"
      ]
     },
     "execution_count": 10,
     "metadata": {},
     "output_type": "execute_result"
    }
   ],
   "source": [
    "df1.dtypes"
   ]
  },
  {
   "cell_type": "code",
   "execution_count": 11,
   "metadata": {},
   "outputs": [
    {
     "data": {
      "text/plain": [
       "A    float64\n",
       "B    float64\n",
       "C    float64\n",
       "D    float64\n",
       "dtype: object"
      ]
     },
     "execution_count": 11,
     "metadata": {},
     "output_type": "execute_result"
    }
   ],
   "source": [
    "df.dtypes"
   ]
  },
  {
   "cell_type": "code",
   "execution_count": 12,
   "metadata": {},
   "outputs": [
    {
     "data": {
      "text/html": [
       "<div>\n",
       "<style scoped>\n",
       "    .dataframe tbody tr th:only-of-type {\n",
       "        vertical-align: middle;\n",
       "    }\n",
       "\n",
       "    .dataframe tbody tr th {\n",
       "        vertical-align: top;\n",
       "    }\n",
       "\n",
       "    .dataframe thead th {\n",
       "        text-align: right;\n",
       "    }\n",
       "</style>\n",
       "<table border=\"1\" class=\"dataframe\">\n",
       "  <thead>\n",
       "    <tr style=\"text-align: right;\">\n",
       "      <th></th>\n",
       "      <th>A</th>\n",
       "      <th>B</th>\n",
       "      <th>C</th>\n",
       "      <th>D</th>\n",
       "    </tr>\n",
       "  </thead>\n",
       "  <tbody>\n",
       "    <tr>\n",
       "      <th>2020-03-01</th>\n",
       "      <td>0.169885</td>\n",
       "      <td>0.556044</td>\n",
       "      <td>-0.494149</td>\n",
       "      <td>0.654055</td>\n",
       "    </tr>\n",
       "    <tr>\n",
       "      <th>2020-03-02</th>\n",
       "      <td>-1.283801</td>\n",
       "      <td>-0.795727</td>\n",
       "      <td>0.176935</td>\n",
       "      <td>-0.984743</td>\n",
       "    </tr>\n",
       "    <tr>\n",
       "      <th>2020-03-03</th>\n",
       "      <td>-1.048930</td>\n",
       "      <td>-0.005403</td>\n",
       "      <td>-1.268762</td>\n",
       "      <td>-0.214236</td>\n",
       "    </tr>\n",
       "    <tr>\n",
       "      <th>2020-03-04</th>\n",
       "      <td>-0.505915</td>\n",
       "      <td>0.066754</td>\n",
       "      <td>-1.143280</td>\n",
       "      <td>-1.994140</td>\n",
       "    </tr>\n",
       "    <tr>\n",
       "      <th>2020-03-05</th>\n",
       "      <td>-1.856638</td>\n",
       "      <td>-3.231653</td>\n",
       "      <td>1.743687</td>\n",
       "      <td>-0.721915</td>\n",
       "    </tr>\n",
       "  </tbody>\n",
       "</table>\n",
       "</div>"
      ],
      "text/plain": [
       "                   A         B         C         D\n",
       "2020-03-01  0.169885  0.556044 -0.494149  0.654055\n",
       "2020-03-02 -1.283801 -0.795727  0.176935 -0.984743\n",
       "2020-03-03 -1.048930 -0.005403 -1.268762 -0.214236\n",
       "2020-03-04 -0.505915  0.066754 -1.143280 -1.994140\n",
       "2020-03-05 -1.856638 -3.231653  1.743687 -0.721915"
      ]
     },
     "execution_count": 12,
     "metadata": {},
     "output_type": "execute_result"
    }
   ],
   "source": [
    "#df.head() results in the first five values in the DataFrame\n",
    "df.head()"
   ]
  },
  {
   "cell_type": "code",
   "execution_count": 13,
   "metadata": {},
   "outputs": [
    {
     "data": {
      "text/html": [
       "<div>\n",
       "<style scoped>\n",
       "    .dataframe tbody tr th:only-of-type {\n",
       "        vertical-align: middle;\n",
       "    }\n",
       "\n",
       "    .dataframe tbody tr th {\n",
       "        vertical-align: top;\n",
       "    }\n",
       "\n",
       "    .dataframe thead th {\n",
       "        text-align: right;\n",
       "    }\n",
       "</style>\n",
       "<table border=\"1\" class=\"dataframe\">\n",
       "  <thead>\n",
       "    <tr style=\"text-align: right;\">\n",
       "      <th></th>\n",
       "      <th>A</th>\n",
       "      <th>B</th>\n",
       "      <th>C</th>\n",
       "      <th>D</th>\n",
       "    </tr>\n",
       "  </thead>\n",
       "  <tbody>\n",
       "    <tr>\n",
       "      <th>2020-03-06</th>\n",
       "      <td>0.876719</td>\n",
       "      <td>-0.722835</td>\n",
       "      <td>-0.591404</td>\n",
       "      <td>-0.488666</td>\n",
       "    </tr>\n",
       "    <tr>\n",
       "      <th>2020-03-07</th>\n",
       "      <td>0.621056</td>\n",
       "      <td>0.667029</td>\n",
       "      <td>1.115409</td>\n",
       "      <td>-0.267587</td>\n",
       "    </tr>\n",
       "    <tr>\n",
       "      <th>2020-03-08</th>\n",
       "      <td>-0.598637</td>\n",
       "      <td>-0.330759</td>\n",
       "      <td>1.376479</td>\n",
       "      <td>-1.083784</td>\n",
       "    </tr>\n",
       "    <tr>\n",
       "      <th>2020-03-09</th>\n",
       "      <td>-0.280665</td>\n",
       "      <td>-0.690525</td>\n",
       "      <td>0.301560</td>\n",
       "      <td>0.272285</td>\n",
       "    </tr>\n",
       "    <tr>\n",
       "      <th>2020-03-10</th>\n",
       "      <td>1.128275</td>\n",
       "      <td>-1.096287</td>\n",
       "      <td>-0.213912</td>\n",
       "      <td>-1.500499</td>\n",
       "    </tr>\n",
       "  </tbody>\n",
       "</table>\n",
       "</div>"
      ],
      "text/plain": [
       "                   A         B         C         D\n",
       "2020-03-06  0.876719 -0.722835 -0.591404 -0.488666\n",
       "2020-03-07  0.621056  0.667029  1.115409 -0.267587\n",
       "2020-03-08 -0.598637 -0.330759  1.376479 -1.083784\n",
       "2020-03-09 -0.280665 -0.690525  0.301560  0.272285\n",
       "2020-03-10  1.128275 -1.096287 -0.213912 -1.500499"
      ]
     },
     "execution_count": 13,
     "metadata": {},
     "output_type": "execute_result"
    }
   ],
   "source": [
    "#df.tail() results in the last five values in the DataFrame\n",
    "df.tail()"
   ]
  },
  {
   "cell_type": "code",
   "execution_count": 14,
   "metadata": {},
   "outputs": [
    {
     "data": {
      "text/plain": [
       "DatetimeIndex(['2020-03-01', '2020-03-02', '2020-03-03', '2020-03-04',\n",
       "               '2020-03-05', '2020-03-06', '2020-03-07', '2020-03-08',\n",
       "               '2020-03-09', '2020-03-10'],\n",
       "              dtype='datetime64[ns]', freq='D')"
      ]
     },
     "execution_count": 14,
     "metadata": {},
     "output_type": "execute_result"
    }
   ],
   "source": [
    "df.index"
   ]
  },
  {
   "cell_type": "code",
   "execution_count": 15,
   "metadata": {},
   "outputs": [
    {
     "data": {
      "text/plain": [
       "Index(['A', 'B', 'C', 'D'], dtype='object')"
      ]
     },
     "execution_count": 15,
     "metadata": {},
     "output_type": "execute_result"
    }
   ],
   "source": [
    "#To get all the columns from DatFrame\n",
    "df.columns"
   ]
  },
  {
   "cell_type": "code",
   "execution_count": 16,
   "metadata": {},
   "outputs": [
    {
     "data": {
      "text/plain": [
       "array([[ 0.1698847 ,  0.55604444, -0.49414942,  0.65405489],\n",
       "       [-1.28380149, -0.79572723,  0.17693468, -0.98474272],\n",
       "       [-1.04892958, -0.00540285, -1.26876228, -0.21423569],\n",
       "       [-0.5059155 ,  0.06675449, -1.14327967, -1.99413981],\n",
       "       [-1.85663828, -3.23165311,  1.74368702, -0.7219146 ],\n",
       "       [ 0.87671923, -0.72283477, -0.59140377, -0.48866634],\n",
       "       [ 0.62105637,  0.66702935,  1.11540935, -0.26758682],\n",
       "       [-0.59863717, -0.33075926,  1.37647889, -1.08378377],\n",
       "       [-0.28066543, -0.69052512,  0.30155981,  0.27228511],\n",
       "       [ 1.12827531, -1.09628747, -0.21391177, -1.50049936]])"
      ]
     },
     "execution_count": 16,
     "metadata": {},
     "output_type": "execute_result"
    }
   ],
   "source": [
    "#To get NUmPy representation of DataFrame - SANJANA RK\n",
    "df.to_numpy()"
   ]
  },
  {
   "cell_type": "code",
   "execution_count": 17,
   "metadata": {},
   "outputs": [
    {
     "data": {
      "text/html": [
       "<div>\n",
       "<style scoped>\n",
       "    .dataframe tbody tr th:only-of-type {\n",
       "        vertical-align: middle;\n",
       "    }\n",
       "\n",
       "    .dataframe tbody tr th {\n",
       "        vertical-align: top;\n",
       "    }\n",
       "\n",
       "    .dataframe thead th {\n",
       "        text-align: right;\n",
       "    }\n",
       "</style>\n",
       "<table border=\"1\" class=\"dataframe\">\n",
       "  <thead>\n",
       "    <tr style=\"text-align: right;\">\n",
       "      <th></th>\n",
       "      <th>A</th>\n",
       "      <th>B</th>\n",
       "      <th>C</th>\n",
       "      <th>D</th>\n",
       "    </tr>\n",
       "  </thead>\n",
       "  <tbody>\n",
       "    <tr>\n",
       "      <th>count</th>\n",
       "      <td>10.000000</td>\n",
       "      <td>10.000000</td>\n",
       "      <td>10.000000</td>\n",
       "      <td>10.000000</td>\n",
       "    </tr>\n",
       "    <tr>\n",
       "      <th>mean</th>\n",
       "      <td>-0.277865</td>\n",
       "      <td>-0.558336</td>\n",
       "      <td>0.100256</td>\n",
       "      <td>-0.632923</td>\n",
       "    </tr>\n",
       "    <tr>\n",
       "      <th>std</th>\n",
       "      <td>0.975973</td>\n",
       "      <td>1.106975</td>\n",
       "      <td>1.041236</td>\n",
       "      <td>0.799018</td>\n",
       "    </tr>\n",
       "    <tr>\n",
       "      <th>min</th>\n",
       "      <td>-1.856638</td>\n",
       "      <td>-3.231653</td>\n",
       "      <td>-1.268762</td>\n",
       "      <td>-1.994140</td>\n",
       "    </tr>\n",
       "    <tr>\n",
       "      <th>25%</th>\n",
       "      <td>-0.936356</td>\n",
       "      <td>-0.777504</td>\n",
       "      <td>-0.567090</td>\n",
       "      <td>-1.059024</td>\n",
       "    </tr>\n",
       "    <tr>\n",
       "      <th>50%</th>\n",
       "      <td>-0.393290</td>\n",
       "      <td>-0.510642</td>\n",
       "      <td>-0.018489</td>\n",
       "      <td>-0.605290</td>\n",
       "    </tr>\n",
       "    <tr>\n",
       "      <th>75%</th>\n",
       "      <td>0.508263</td>\n",
       "      <td>0.048715</td>\n",
       "      <td>0.911947</td>\n",
       "      <td>-0.227573</td>\n",
       "    </tr>\n",
       "    <tr>\n",
       "      <th>max</th>\n",
       "      <td>1.128275</td>\n",
       "      <td>0.667029</td>\n",
       "      <td>1.743687</td>\n",
       "      <td>0.654055</td>\n",
       "    </tr>\n",
       "  </tbody>\n",
       "</table>\n",
       "</div>"
      ],
      "text/plain": [
       "               A          B          C          D\n",
       "count  10.000000  10.000000  10.000000  10.000000\n",
       "mean   -0.277865  -0.558336   0.100256  -0.632923\n",
       "std     0.975973   1.106975   1.041236   0.799018\n",
       "min    -1.856638  -3.231653  -1.268762  -1.994140\n",
       "25%    -0.936356  -0.777504  -0.567090  -1.059024\n",
       "50%    -0.393290  -0.510642  -0.018489  -0.605290\n",
       "75%     0.508263   0.048715   0.911947  -0.227573\n",
       "max     1.128275   0.667029   1.743687   0.654055"
      ]
     },
     "execution_count": 17,
     "metadata": {},
     "output_type": "execute_result"
    }
   ],
   "source": [
    "df.describe()"
   ]
  },
  {
   "cell_type": "code",
   "execution_count": 18,
   "metadata": {},
   "outputs": [
    {
     "data": {
      "text/html": [
       "<div>\n",
       "<style scoped>\n",
       "    .dataframe tbody tr th:only-of-type {\n",
       "        vertical-align: middle;\n",
       "    }\n",
       "\n",
       "    .dataframe tbody tr th {\n",
       "        vertical-align: top;\n",
       "    }\n",
       "\n",
       "    .dataframe thead th {\n",
       "        text-align: right;\n",
       "    }\n",
       "</style>\n",
       "<table border=\"1\" class=\"dataframe\">\n",
       "  <thead>\n",
       "    <tr style=\"text-align: right;\">\n",
       "      <th></th>\n",
       "      <th>A</th>\n",
       "      <th>B</th>\n",
       "      <th>C</th>\n",
       "      <th>D</th>\n",
       "    </tr>\n",
       "  </thead>\n",
       "  <tbody>\n",
       "    <tr>\n",
       "      <th>2020-03-01</th>\n",
       "      <td>0.169885</td>\n",
       "      <td>0.556044</td>\n",
       "      <td>-0.494149</td>\n",
       "      <td>0.654055</td>\n",
       "    </tr>\n",
       "    <tr>\n",
       "      <th>2020-03-02</th>\n",
       "      <td>-1.283801</td>\n",
       "      <td>-0.795727</td>\n",
       "      <td>0.176935</td>\n",
       "      <td>-0.984743</td>\n",
       "    </tr>\n",
       "    <tr>\n",
       "      <th>2020-03-03</th>\n",
       "      <td>-1.048930</td>\n",
       "      <td>-0.005403</td>\n",
       "      <td>-1.268762</td>\n",
       "      <td>-0.214236</td>\n",
       "    </tr>\n",
       "    <tr>\n",
       "      <th>2020-03-04</th>\n",
       "      <td>-0.505915</td>\n",
       "      <td>0.066754</td>\n",
       "      <td>-1.143280</td>\n",
       "      <td>-1.994140</td>\n",
       "    </tr>\n",
       "    <tr>\n",
       "      <th>2020-03-05</th>\n",
       "      <td>-1.856638</td>\n",
       "      <td>-3.231653</td>\n",
       "      <td>1.743687</td>\n",
       "      <td>-0.721915</td>\n",
       "    </tr>\n",
       "    <tr>\n",
       "      <th>2020-03-06</th>\n",
       "      <td>0.876719</td>\n",
       "      <td>-0.722835</td>\n",
       "      <td>-0.591404</td>\n",
       "      <td>-0.488666</td>\n",
       "    </tr>\n",
       "    <tr>\n",
       "      <th>2020-03-07</th>\n",
       "      <td>0.621056</td>\n",
       "      <td>0.667029</td>\n",
       "      <td>1.115409</td>\n",
       "      <td>-0.267587</td>\n",
       "    </tr>\n",
       "    <tr>\n",
       "      <th>2020-03-08</th>\n",
       "      <td>-0.598637</td>\n",
       "      <td>-0.330759</td>\n",
       "      <td>1.376479</td>\n",
       "      <td>-1.083784</td>\n",
       "    </tr>\n",
       "    <tr>\n",
       "      <th>2020-03-09</th>\n",
       "      <td>-0.280665</td>\n",
       "      <td>-0.690525</td>\n",
       "      <td>0.301560</td>\n",
       "      <td>0.272285</td>\n",
       "    </tr>\n",
       "    <tr>\n",
       "      <th>2020-03-10</th>\n",
       "      <td>1.128275</td>\n",
       "      <td>-1.096287</td>\n",
       "      <td>-0.213912</td>\n",
       "      <td>-1.500499</td>\n",
       "    </tr>\n",
       "  </tbody>\n",
       "</table>\n",
       "</div>"
      ],
      "text/plain": [
       "                   A         B         C         D\n",
       "2020-03-01  0.169885  0.556044 -0.494149  0.654055\n",
       "2020-03-02 -1.283801 -0.795727  0.176935 -0.984743\n",
       "2020-03-03 -1.048930 -0.005403 -1.268762 -0.214236\n",
       "2020-03-04 -0.505915  0.066754 -1.143280 -1.994140\n",
       "2020-03-05 -1.856638 -3.231653  1.743687 -0.721915\n",
       "2020-03-06  0.876719 -0.722835 -0.591404 -0.488666\n",
       "2020-03-07  0.621056  0.667029  1.115409 -0.267587\n",
       "2020-03-08 -0.598637 -0.330759  1.376479 -1.083784\n",
       "2020-03-09 -0.280665 -0.690525  0.301560  0.272285\n",
       "2020-03-10  1.128275 -1.096287 -0.213912 -1.500499"
      ]
     },
     "execution_count": 18,
     "metadata": {},
     "output_type": "execute_result"
    }
   ],
   "source": [
    "df.sort_index(axis=1, ascending=True)"
   ]
  },
  {
   "cell_type": "code",
   "execution_count": 19,
   "metadata": {},
   "outputs": [
    {
     "data": {
      "text/html": [
       "<div>\n",
       "<style scoped>\n",
       "    .dataframe tbody tr th:only-of-type {\n",
       "        vertical-align: middle;\n",
       "    }\n",
       "\n",
       "    .dataframe tbody tr th {\n",
       "        vertical-align: top;\n",
       "    }\n",
       "\n",
       "    .dataframe thead th {\n",
       "        text-align: right;\n",
       "    }\n",
       "</style>\n",
       "<table border=\"1\" class=\"dataframe\">\n",
       "  <thead>\n",
       "    <tr style=\"text-align: right;\">\n",
       "      <th></th>\n",
       "      <th>A</th>\n",
       "      <th>B</th>\n",
       "      <th>C</th>\n",
       "      <th>D</th>\n",
       "    </tr>\n",
       "  </thead>\n",
       "  <tbody>\n",
       "    <tr>\n",
       "      <th>2020-03-04</th>\n",
       "      <td>-0.505915</td>\n",
       "      <td>0.066754</td>\n",
       "      <td>-1.143280</td>\n",
       "      <td>-1.994140</td>\n",
       "    </tr>\n",
       "    <tr>\n",
       "      <th>2020-03-10</th>\n",
       "      <td>1.128275</td>\n",
       "      <td>-1.096287</td>\n",
       "      <td>-0.213912</td>\n",
       "      <td>-1.500499</td>\n",
       "    </tr>\n",
       "    <tr>\n",
       "      <th>2020-03-08</th>\n",
       "      <td>-0.598637</td>\n",
       "      <td>-0.330759</td>\n",
       "      <td>1.376479</td>\n",
       "      <td>-1.083784</td>\n",
       "    </tr>\n",
       "    <tr>\n",
       "      <th>2020-03-02</th>\n",
       "      <td>-1.283801</td>\n",
       "      <td>-0.795727</td>\n",
       "      <td>0.176935</td>\n",
       "      <td>-0.984743</td>\n",
       "    </tr>\n",
       "    <tr>\n",
       "      <th>2020-03-05</th>\n",
       "      <td>-1.856638</td>\n",
       "      <td>-3.231653</td>\n",
       "      <td>1.743687</td>\n",
       "      <td>-0.721915</td>\n",
       "    </tr>\n",
       "    <tr>\n",
       "      <th>2020-03-06</th>\n",
       "      <td>0.876719</td>\n",
       "      <td>-0.722835</td>\n",
       "      <td>-0.591404</td>\n",
       "      <td>-0.488666</td>\n",
       "    </tr>\n",
       "    <tr>\n",
       "      <th>2020-03-07</th>\n",
       "      <td>0.621056</td>\n",
       "      <td>0.667029</td>\n",
       "      <td>1.115409</td>\n",
       "      <td>-0.267587</td>\n",
       "    </tr>\n",
       "    <tr>\n",
       "      <th>2020-03-03</th>\n",
       "      <td>-1.048930</td>\n",
       "      <td>-0.005403</td>\n",
       "      <td>-1.268762</td>\n",
       "      <td>-0.214236</td>\n",
       "    </tr>\n",
       "    <tr>\n",
       "      <th>2020-03-09</th>\n",
       "      <td>-0.280665</td>\n",
       "      <td>-0.690525</td>\n",
       "      <td>0.301560</td>\n",
       "      <td>0.272285</td>\n",
       "    </tr>\n",
       "    <tr>\n",
       "      <th>2020-03-01</th>\n",
       "      <td>0.169885</td>\n",
       "      <td>0.556044</td>\n",
       "      <td>-0.494149</td>\n",
       "      <td>0.654055</td>\n",
       "    </tr>\n",
       "  </tbody>\n",
       "</table>\n",
       "</div>"
      ],
      "text/plain": [
       "                   A         B         C         D\n",
       "2020-03-04 -0.505915  0.066754 -1.143280 -1.994140\n",
       "2020-03-10  1.128275 -1.096287 -0.213912 -1.500499\n",
       "2020-03-08 -0.598637 -0.330759  1.376479 -1.083784\n",
       "2020-03-02 -1.283801 -0.795727  0.176935 -0.984743\n",
       "2020-03-05 -1.856638 -3.231653  1.743687 -0.721915\n",
       "2020-03-06  0.876719 -0.722835 -0.591404 -0.488666\n",
       "2020-03-07  0.621056  0.667029  1.115409 -0.267587\n",
       "2020-03-03 -1.048930 -0.005403 -1.268762 -0.214236\n",
       "2020-03-09 -0.280665 -0.690525  0.301560  0.272285\n",
       "2020-03-01  0.169885  0.556044 -0.494149  0.654055"
      ]
     },
     "execution_count": 19,
     "metadata": {},
     "output_type": "execute_result"
    }
   ],
   "source": [
    "#To sort by a specific column\n",
    "df.sort_values(by='D')"
   ]
  },
  {
   "cell_type": "code",
   "execution_count": 20,
   "metadata": {},
   "outputs": [
    {
     "data": {
      "text/plain": [
       "2020-03-01    0.169885\n",
       "2020-03-02   -1.283801\n",
       "2020-03-03   -1.048930\n",
       "2020-03-04   -0.505915\n",
       "2020-03-05   -1.856638\n",
       "2020-03-06    0.876719\n",
       "2020-03-07    0.621056\n",
       "2020-03-08   -0.598637\n",
       "2020-03-09   -0.280665\n",
       "2020-03-10    1.128275\n",
       "Freq: D, Name: A, dtype: float64"
      ]
     },
     "execution_count": 20,
     "metadata": {},
     "output_type": "execute_result"
    }
   ],
   "source": [
    "#To get a single column \n",
    "df['A']"
   ]
  },
  {
   "cell_type": "code",
   "execution_count": 21,
   "metadata": {},
   "outputs": [
    {
     "data": {
      "text/html": [
       "<div>\n",
       "<style scoped>\n",
       "    .dataframe tbody tr th:only-of-type {\n",
       "        vertical-align: middle;\n",
       "    }\n",
       "\n",
       "    .dataframe tbody tr th {\n",
       "        vertical-align: top;\n",
       "    }\n",
       "\n",
       "    .dataframe thead th {\n",
       "        text-align: right;\n",
       "    }\n",
       "</style>\n",
       "<table border=\"1\" class=\"dataframe\">\n",
       "  <thead>\n",
       "    <tr style=\"text-align: right;\">\n",
       "      <th></th>\n",
       "      <th>A</th>\n",
       "      <th>B</th>\n",
       "      <th>C</th>\n",
       "      <th>D</th>\n",
       "    </tr>\n",
       "  </thead>\n",
       "  <tbody>\n",
       "    <tr>\n",
       "      <th>2020-03-01</th>\n",
       "      <td>0.169885</td>\n",
       "      <td>0.556044</td>\n",
       "      <td>-0.494149</td>\n",
       "      <td>0.654055</td>\n",
       "    </tr>\n",
       "    <tr>\n",
       "      <th>2020-03-02</th>\n",
       "      <td>-1.283801</td>\n",
       "      <td>-0.795727</td>\n",
       "      <td>0.176935</td>\n",
       "      <td>-0.984743</td>\n",
       "    </tr>\n",
       "    <tr>\n",
       "      <th>2020-03-03</th>\n",
       "      <td>-1.048930</td>\n",
       "      <td>-0.005403</td>\n",
       "      <td>-1.268762</td>\n",
       "      <td>-0.214236</td>\n",
       "    </tr>\n",
       "  </tbody>\n",
       "</table>\n",
       "</div>"
      ],
      "text/plain": [
       "                   A         B         C         D\n",
       "2020-03-01  0.169885  0.556044 -0.494149  0.654055\n",
       "2020-03-02 -1.283801 -0.795727  0.176935 -0.984743\n",
       "2020-03-03 -1.048930 -0.005403 -1.268762 -0.214236"
      ]
     },
     "execution_count": 21,
     "metadata": {},
     "output_type": "execute_result"
    }
   ],
   "source": [
    "#To slice\n",
    "df[0:3]"
   ]
  },
  {
   "cell_type": "code",
   "execution_count": 22,
   "metadata": {},
   "outputs": [
    {
     "data": {
      "text/html": [
       "<div>\n",
       "<style scoped>\n",
       "    .dataframe tbody tr th:only-of-type {\n",
       "        vertical-align: middle;\n",
       "    }\n",
       "\n",
       "    .dataframe tbody tr th {\n",
       "        vertical-align: top;\n",
       "    }\n",
       "\n",
       "    .dataframe thead th {\n",
       "        text-align: right;\n",
       "    }\n",
       "</style>\n",
       "<table border=\"1\" class=\"dataframe\">\n",
       "  <thead>\n",
       "    <tr style=\"text-align: right;\">\n",
       "      <th></th>\n",
       "      <th>A</th>\n",
       "      <th>B</th>\n",
       "      <th>C</th>\n",
       "      <th>D</th>\n",
       "    </tr>\n",
       "  </thead>\n",
       "  <tbody>\n",
       "    <tr>\n",
       "      <th>2020-03-01</th>\n",
       "      <td>0.169885</td>\n",
       "      <td>0.556044</td>\n",
       "      <td>-0.494149</td>\n",
       "      <td>0.654055</td>\n",
       "    </tr>\n",
       "    <tr>\n",
       "      <th>2020-03-02</th>\n",
       "      <td>-1.283801</td>\n",
       "      <td>-0.795727</td>\n",
       "      <td>0.176935</td>\n",
       "      <td>-0.984743</td>\n",
       "    </tr>\n",
       "    <tr>\n",
       "      <th>2020-03-03</th>\n",
       "      <td>-1.048930</td>\n",
       "      <td>-0.005403</td>\n",
       "      <td>-1.268762</td>\n",
       "      <td>-0.214236</td>\n",
       "    </tr>\n",
       "    <tr>\n",
       "      <th>2020-03-04</th>\n",
       "      <td>-0.505915</td>\n",
       "      <td>0.066754</td>\n",
       "      <td>-1.143280</td>\n",
       "      <td>-1.994140</td>\n",
       "    </tr>\n",
       "    <tr>\n",
       "      <th>2020-03-05</th>\n",
       "      <td>-1.856638</td>\n",
       "      <td>-3.231653</td>\n",
       "      <td>1.743687</td>\n",
       "      <td>-0.721915</td>\n",
       "    </tr>\n",
       "    <tr>\n",
       "      <th>2020-03-06</th>\n",
       "      <td>0.876719</td>\n",
       "      <td>-0.722835</td>\n",
       "      <td>-0.591404</td>\n",
       "      <td>-0.488666</td>\n",
       "    </tr>\n",
       "    <tr>\n",
       "      <th>2020-03-07</th>\n",
       "      <td>0.621056</td>\n",
       "      <td>0.667029</td>\n",
       "      <td>1.115409</td>\n",
       "      <td>-0.267587</td>\n",
       "    </tr>\n",
       "    <tr>\n",
       "      <th>2020-03-08</th>\n",
       "      <td>-0.598637</td>\n",
       "      <td>-0.330759</td>\n",
       "      <td>1.376479</td>\n",
       "      <td>-1.083784</td>\n",
       "    </tr>\n",
       "    <tr>\n",
       "      <th>2020-03-09</th>\n",
       "      <td>-0.280665</td>\n",
       "      <td>-0.690525</td>\n",
       "      <td>0.301560</td>\n",
       "      <td>0.272285</td>\n",
       "    </tr>\n",
       "    <tr>\n",
       "      <th>2020-03-10</th>\n",
       "      <td>1.128275</td>\n",
       "      <td>-1.096287</td>\n",
       "      <td>-0.213912</td>\n",
       "      <td>-1.500499</td>\n",
       "    </tr>\n",
       "  </tbody>\n",
       "</table>\n",
       "</div>"
      ],
      "text/plain": [
       "                   A         B         C         D\n",
       "2020-03-01  0.169885  0.556044 -0.494149  0.654055\n",
       "2020-03-02 -1.283801 -0.795727  0.176935 -0.984743\n",
       "2020-03-03 -1.048930 -0.005403 -1.268762 -0.214236\n",
       "2020-03-04 -0.505915  0.066754 -1.143280 -1.994140\n",
       "2020-03-05 -1.856638 -3.231653  1.743687 -0.721915\n",
       "2020-03-06  0.876719 -0.722835 -0.591404 -0.488666\n",
       "2020-03-07  0.621056  0.667029  1.115409 -0.267587\n",
       "2020-03-08 -0.598637 -0.330759  1.376479 -1.083784\n",
       "2020-03-09 -0.280665 -0.690525  0.301560  0.272285\n",
       "2020-03-10  1.128275 -1.096287 -0.213912 -1.500499"
      ]
     },
     "execution_count": 22,
     "metadata": {},
     "output_type": "execute_result"
    }
   ],
   "source": [
    "df[0:]"
   ]
  },
  {
   "cell_type": "code",
   "execution_count": 23,
   "metadata": {},
   "outputs": [
    {
     "data": {
      "text/plain": [
       "A    0.169885\n",
       "B    0.556044\n",
       "C   -0.494149\n",
       "D    0.654055\n",
       "Name: 2020-03-01 00:00:00, dtype: float64"
      ]
     },
     "execution_count": 23,
     "metadata": {},
     "output_type": "execute_result"
    }
   ],
   "source": [
    "#Usage of label\n",
    "df.loc[d[0]]"
   ]
  },
  {
   "cell_type": "code",
   "execution_count": 24,
   "metadata": {},
   "outputs": [
    {
     "data": {
      "text/html": [
       "<div>\n",
       "<style scoped>\n",
       "    .dataframe tbody tr th:only-of-type {\n",
       "        vertical-align: middle;\n",
       "    }\n",
       "\n",
       "    .dataframe tbody tr th {\n",
       "        vertical-align: top;\n",
       "    }\n",
       "\n",
       "    .dataframe thead th {\n",
       "        text-align: right;\n",
       "    }\n",
       "</style>\n",
       "<table border=\"1\" class=\"dataframe\">\n",
       "  <thead>\n",
       "    <tr style=\"text-align: right;\">\n",
       "      <th></th>\n",
       "      <th>A</th>\n",
       "      <th>D</th>\n",
       "    </tr>\n",
       "  </thead>\n",
       "  <tbody>\n",
       "    <tr>\n",
       "      <th>2020-03-01</th>\n",
       "      <td>0.169885</td>\n",
       "      <td>0.654055</td>\n",
       "    </tr>\n",
       "    <tr>\n",
       "      <th>2020-03-02</th>\n",
       "      <td>-1.283801</td>\n",
       "      <td>-0.984743</td>\n",
       "    </tr>\n",
       "    <tr>\n",
       "      <th>2020-03-03</th>\n",
       "      <td>-1.048930</td>\n",
       "      <td>-0.214236</td>\n",
       "    </tr>\n",
       "    <tr>\n",
       "      <th>2020-03-04</th>\n",
       "      <td>-0.505915</td>\n",
       "      <td>-1.994140</td>\n",
       "    </tr>\n",
       "    <tr>\n",
       "      <th>2020-03-05</th>\n",
       "      <td>-1.856638</td>\n",
       "      <td>-0.721915</td>\n",
       "    </tr>\n",
       "    <tr>\n",
       "      <th>2020-03-06</th>\n",
       "      <td>0.876719</td>\n",
       "      <td>-0.488666</td>\n",
       "    </tr>\n",
       "    <tr>\n",
       "      <th>2020-03-07</th>\n",
       "      <td>0.621056</td>\n",
       "      <td>-0.267587</td>\n",
       "    </tr>\n",
       "    <tr>\n",
       "      <th>2020-03-08</th>\n",
       "      <td>-0.598637</td>\n",
       "      <td>-1.083784</td>\n",
       "    </tr>\n",
       "    <tr>\n",
       "      <th>2020-03-09</th>\n",
       "      <td>-0.280665</td>\n",
       "      <td>0.272285</td>\n",
       "    </tr>\n",
       "    <tr>\n",
       "      <th>2020-03-10</th>\n",
       "      <td>1.128275</td>\n",
       "      <td>-1.500499</td>\n",
       "    </tr>\n",
       "  </tbody>\n",
       "</table>\n",
       "</div>"
      ],
      "text/plain": [
       "                   A         D\n",
       "2020-03-01  0.169885  0.654055\n",
       "2020-03-02 -1.283801 -0.984743\n",
       "2020-03-03 -1.048930 -0.214236\n",
       "2020-03-04 -0.505915 -1.994140\n",
       "2020-03-05 -1.856638 -0.721915\n",
       "2020-03-06  0.876719 -0.488666\n",
       "2020-03-07  0.621056 -0.267587\n",
       "2020-03-08 -0.598637 -1.083784\n",
       "2020-03-09 -0.280665  0.272285\n",
       "2020-03-10  1.128275 -1.500499"
      ]
     },
     "execution_count": 24,
     "metadata": {},
     "output_type": "execute_result"
    }
   ],
   "source": [
    "df.loc[:,['A','D']]"
   ]
  },
  {
   "cell_type": "code",
   "execution_count": 25,
   "metadata": {},
   "outputs": [
    {
     "data": {
      "text/html": [
       "<div>\n",
       "<style scoped>\n",
       "    .dataframe tbody tr th:only-of-type {\n",
       "        vertical-align: middle;\n",
       "    }\n",
       "\n",
       "    .dataframe tbody tr th {\n",
       "        vertical-align: top;\n",
       "    }\n",
       "\n",
       "    .dataframe thead th {\n",
       "        text-align: right;\n",
       "    }\n",
       "</style>\n",
       "<table border=\"1\" class=\"dataframe\">\n",
       "  <thead>\n",
       "    <tr style=\"text-align: right;\">\n",
       "      <th></th>\n",
       "      <th>B</th>\n",
       "      <th>D</th>\n",
       "    </tr>\n",
       "  </thead>\n",
       "  <tbody>\n",
       "    <tr>\n",
       "      <th>2020-03-01</th>\n",
       "      <td>0.556044</td>\n",
       "      <td>0.654055</td>\n",
       "    </tr>\n",
       "    <tr>\n",
       "      <th>2020-03-02</th>\n",
       "      <td>-0.795727</td>\n",
       "      <td>-0.984743</td>\n",
       "    </tr>\n",
       "    <tr>\n",
       "      <th>2020-03-03</th>\n",
       "      <td>-0.005403</td>\n",
       "      <td>-0.214236</td>\n",
       "    </tr>\n",
       "  </tbody>\n",
       "</table>\n",
       "</div>"
      ],
      "text/plain": [
       "                   B         D\n",
       "2020-03-01  0.556044  0.654055\n",
       "2020-03-02 -0.795727 -0.984743\n",
       "2020-03-03 -0.005403 -0.214236"
      ]
     },
     "execution_count": 25,
     "metadata": {},
     "output_type": "execute_result"
    }
   ],
   "source": [
    "df.loc['20200301':'20200303',['B','D']]"
   ]
  },
  {
   "cell_type": "code",
   "execution_count": 26,
   "metadata": {},
   "outputs": [
    {
     "data": {
      "text/plain": [
       "D   -0.488666\n",
       "A    0.876719\n",
       "Name: 2020-03-06 00:00:00, dtype: float64"
      ]
     },
     "execution_count": 26,
     "metadata": {},
     "output_type": "execute_result"
    }
   ],
   "source": [
    "#To get values insdie a dataframe corresponding to one particular field \n",
    "df.loc['20200306',['D','A']]"
   ]
  },
  {
   "cell_type": "code",
   "execution_count": 27,
   "metadata": {},
   "outputs": [
    {
     "data": {
      "text/plain": [
       "0.1698847000436519"
      ]
     },
     "execution_count": 27,
     "metadata": {},
     "output_type": "execute_result"
    }
   ],
   "source": [
    "#To get exact value at particular row, here lets say 0th row and column A\n",
    "df.at[d[0],'A']"
   ]
  },
  {
   "cell_type": "code",
   "execution_count": 28,
   "metadata": {},
   "outputs": [
    {
     "data": {
      "text/plain": [
       "A   -0.505915\n",
       "B    0.066754\n",
       "C   -1.143280\n",
       "D   -1.994140\n",
       "Name: 2020-03-04 00:00:00, dtype: float64"
      ]
     },
     "execution_count": 28,
     "metadata": {},
     "output_type": "execute_result"
    }
   ],
   "source": [
    "#To get the value using position \n",
    "df.iloc[3]"
   ]
  },
  {
   "cell_type": "code",
   "execution_count": 29,
   "metadata": {},
   "outputs": [
    {
     "data": {
      "text/html": [
       "<div>\n",
       "<style scoped>\n",
       "    .dataframe tbody tr th:only-of-type {\n",
       "        vertical-align: middle;\n",
       "    }\n",
       "\n",
       "    .dataframe tbody tr th {\n",
       "        vertical-align: top;\n",
       "    }\n",
       "\n",
       "    .dataframe thead th {\n",
       "        text-align: right;\n",
       "    }\n",
       "</style>\n",
       "<table border=\"1\" class=\"dataframe\">\n",
       "  <thead>\n",
       "    <tr style=\"text-align: right;\">\n",
       "      <th></th>\n",
       "      <th>A</th>\n",
       "      <th>B</th>\n",
       "      <th>C</th>\n",
       "      <th>D</th>\n",
       "    </tr>\n",
       "  </thead>\n",
       "  <tbody>\n",
       "    <tr>\n",
       "      <th>2020-03-01</th>\n",
       "      <td>0.169885</td>\n",
       "      <td>0.556044</td>\n",
       "      <td>-0.494149</td>\n",
       "      <td>0.654055</td>\n",
       "    </tr>\n",
       "    <tr>\n",
       "      <th>2020-03-06</th>\n",
       "      <td>0.876719</td>\n",
       "      <td>-0.722835</td>\n",
       "      <td>-0.591404</td>\n",
       "      <td>-0.488666</td>\n",
       "    </tr>\n",
       "    <tr>\n",
       "      <th>2020-03-07</th>\n",
       "      <td>0.621056</td>\n",
       "      <td>0.667029</td>\n",
       "      <td>1.115409</td>\n",
       "      <td>-0.267587</td>\n",
       "    </tr>\n",
       "    <tr>\n",
       "      <th>2020-03-10</th>\n",
       "      <td>1.128275</td>\n",
       "      <td>-1.096287</td>\n",
       "      <td>-0.213912</td>\n",
       "      <td>-1.500499</td>\n",
       "    </tr>\n",
       "  </tbody>\n",
       "</table>\n",
       "</div>"
      ],
      "text/plain": [
       "                   A         B         C         D\n",
       "2020-03-01  0.169885  0.556044 -0.494149  0.654055\n",
       "2020-03-06  0.876719 -0.722835 -0.591404 -0.488666\n",
       "2020-03-07  0.621056  0.667029  1.115409 -0.267587\n",
       "2020-03-10  1.128275 -1.096287 -0.213912 -1.500499"
      ]
     },
     "execution_count": 29,
     "metadata": {},
     "output_type": "execute_result"
    }
   ],
   "source": [
    "#Boolean indexing\n",
    "#All the values inside A > 0\n",
    "df[df['A'] > 0]"
   ]
  },
  {
   "cell_type": "code",
   "execution_count": 30,
   "metadata": {},
   "outputs": [],
   "source": [
    "#Handling Missing Data\n",
    "#Step 1 : reindexing \n",
    "df2 = df.reindex(index=d[0:4], columns=list(df.columns) + ['E'])"
   ]
  },
  {
   "cell_type": "code",
   "execution_count": 31,
   "metadata": {},
   "outputs": [],
   "source": [
    "df2.loc[d[0]:d[1], 'E']=1"
   ]
  },
  {
   "cell_type": "code",
   "execution_count": 32,
   "metadata": {},
   "outputs": [
    {
     "data": {
      "text/html": [
       "<div>\n",
       "<style scoped>\n",
       "    .dataframe tbody tr th:only-of-type {\n",
       "        vertical-align: middle;\n",
       "    }\n",
       "\n",
       "    .dataframe tbody tr th {\n",
       "        vertical-align: top;\n",
       "    }\n",
       "\n",
       "    .dataframe thead th {\n",
       "        text-align: right;\n",
       "    }\n",
       "</style>\n",
       "<table border=\"1\" class=\"dataframe\">\n",
       "  <thead>\n",
       "    <tr style=\"text-align: right;\">\n",
       "      <th></th>\n",
       "      <th>A</th>\n",
       "      <th>B</th>\n",
       "      <th>C</th>\n",
       "      <th>D</th>\n",
       "      <th>E</th>\n",
       "    </tr>\n",
       "  </thead>\n",
       "  <tbody>\n",
       "    <tr>\n",
       "      <th>2020-03-01</th>\n",
       "      <td>0.169885</td>\n",
       "      <td>0.556044</td>\n",
       "      <td>-0.494149</td>\n",
       "      <td>0.654055</td>\n",
       "      <td>1.0</td>\n",
       "    </tr>\n",
       "    <tr>\n",
       "      <th>2020-03-02</th>\n",
       "      <td>-1.283801</td>\n",
       "      <td>-0.795727</td>\n",
       "      <td>0.176935</td>\n",
       "      <td>-0.984743</td>\n",
       "      <td>1.0</td>\n",
       "    </tr>\n",
       "    <tr>\n",
       "      <th>2020-03-03</th>\n",
       "      <td>-1.048930</td>\n",
       "      <td>-0.005403</td>\n",
       "      <td>-1.268762</td>\n",
       "      <td>-0.214236</td>\n",
       "      <td>NaN</td>\n",
       "    </tr>\n",
       "    <tr>\n",
       "      <th>2020-03-04</th>\n",
       "      <td>-0.505915</td>\n",
       "      <td>0.066754</td>\n",
       "      <td>-1.143280</td>\n",
       "      <td>-1.994140</td>\n",
       "      <td>NaN</td>\n",
       "    </tr>\n",
       "  </tbody>\n",
       "</table>\n",
       "</div>"
      ],
      "text/plain": [
       "                   A         B         C         D    E\n",
       "2020-03-01  0.169885  0.556044 -0.494149  0.654055  1.0\n",
       "2020-03-02 -1.283801 -0.795727  0.176935 -0.984743  1.0\n",
       "2020-03-03 -1.048930 -0.005403 -1.268762 -0.214236  NaN\n",
       "2020-03-04 -0.505915  0.066754 -1.143280 -1.994140  NaN"
      ]
     },
     "execution_count": 32,
     "metadata": {},
     "output_type": "execute_result"
    }
   ],
   "source": [
    "df2"
   ]
  },
  {
   "cell_type": "code",
   "execution_count": 33,
   "metadata": {},
   "outputs": [
    {
     "data": {
      "text/html": [
       "<div>\n",
       "<style scoped>\n",
       "    .dataframe tbody tr th:only-of-type {\n",
       "        vertical-align: middle;\n",
       "    }\n",
       "\n",
       "    .dataframe tbody tr th {\n",
       "        vertical-align: top;\n",
       "    }\n",
       "\n",
       "    .dataframe thead th {\n",
       "        text-align: right;\n",
       "    }\n",
       "</style>\n",
       "<table border=\"1\" class=\"dataframe\">\n",
       "  <thead>\n",
       "    <tr style=\"text-align: right;\">\n",
       "      <th></th>\n",
       "      <th>A</th>\n",
       "      <th>B</th>\n",
       "      <th>C</th>\n",
       "      <th>D</th>\n",
       "      <th>E</th>\n",
       "    </tr>\n",
       "  </thead>\n",
       "  <tbody>\n",
       "    <tr>\n",
       "      <th>2020-03-01</th>\n",
       "      <td>False</td>\n",
       "      <td>False</td>\n",
       "      <td>False</td>\n",
       "      <td>False</td>\n",
       "      <td>False</td>\n",
       "    </tr>\n",
       "    <tr>\n",
       "      <th>2020-03-02</th>\n",
       "      <td>False</td>\n",
       "      <td>False</td>\n",
       "      <td>False</td>\n",
       "      <td>False</td>\n",
       "      <td>False</td>\n",
       "    </tr>\n",
       "    <tr>\n",
       "      <th>2020-03-03</th>\n",
       "      <td>False</td>\n",
       "      <td>False</td>\n",
       "      <td>False</td>\n",
       "      <td>False</td>\n",
       "      <td>True</td>\n",
       "    </tr>\n",
       "    <tr>\n",
       "      <th>2020-03-04</th>\n",
       "      <td>False</td>\n",
       "      <td>False</td>\n",
       "      <td>False</td>\n",
       "      <td>False</td>\n",
       "      <td>True</td>\n",
       "    </tr>\n",
       "  </tbody>\n",
       "</table>\n",
       "</div>"
      ],
      "text/plain": [
       "                A      B      C      D      E\n",
       "2020-03-01  False  False  False  False  False\n",
       "2020-03-02  False  False  False  False  False\n",
       "2020-03-03  False  False  False  False   True\n",
       "2020-03-04  False  False  False  False   True"
      ]
     },
     "execution_count": 33,
     "metadata": {},
     "output_type": "execute_result"
    }
   ],
   "source": [
    "df2.isnull() #true represents null values"
   ]
  },
  {
   "cell_type": "code",
   "execution_count": 34,
   "metadata": {},
   "outputs": [
    {
     "data": {
      "text/html": [
       "<div>\n",
       "<style scoped>\n",
       "    .dataframe tbody tr th:only-of-type {\n",
       "        vertical-align: middle;\n",
       "    }\n",
       "\n",
       "    .dataframe tbody tr th {\n",
       "        vertical-align: top;\n",
       "    }\n",
       "\n",
       "    .dataframe thead th {\n",
       "        text-align: right;\n",
       "    }\n",
       "</style>\n",
       "<table border=\"1\" class=\"dataframe\">\n",
       "  <thead>\n",
       "    <tr style=\"text-align: right;\">\n",
       "      <th></th>\n",
       "      <th>A</th>\n",
       "      <th>B</th>\n",
       "      <th>C</th>\n",
       "      <th>D</th>\n",
       "      <th>E</th>\n",
       "    </tr>\n",
       "  </thead>\n",
       "  <tbody>\n",
       "    <tr>\n",
       "      <th>2020-03-01</th>\n",
       "      <td>0.169885</td>\n",
       "      <td>0.556044</td>\n",
       "      <td>-0.494149</td>\n",
       "      <td>0.654055</td>\n",
       "      <td>1.0</td>\n",
       "    </tr>\n",
       "    <tr>\n",
       "      <th>2020-03-02</th>\n",
       "      <td>-1.283801</td>\n",
       "      <td>-0.795727</td>\n",
       "      <td>0.176935</td>\n",
       "      <td>-0.984743</td>\n",
       "      <td>1.0</td>\n",
       "    </tr>\n",
       "  </tbody>\n",
       "</table>\n",
       "</div>"
      ],
      "text/plain": [
       "                   A         B         C         D    E\n",
       "2020-03-01  0.169885  0.556044 -0.494149  0.654055  1.0\n",
       "2020-03-02 -1.283801 -0.795727  0.176935 -0.984743  1.0"
      ]
     },
     "execution_count": 34,
     "metadata": {},
     "output_type": "execute_result"
    }
   ],
   "source": [
    "df2.dropna() #entire column having null value has been dropped \n",
    "#or\n",
    "#can simply fill the null value with another value "
   ]
  },
  {
   "cell_type": "code",
   "execution_count": 35,
   "metadata": {},
   "outputs": [],
   "source": [
    "#Pandas Operations \n",
    "#Descriptive Statics Operations, Applying Functions To data, String processing operations, Histogramming"
   ]
  },
  {
   "cell_type": "code",
   "execution_count": 36,
   "metadata": {},
   "outputs": [
    {
     "data": {
      "text/plain": [
       "A   -0.277865\n",
       "B   -0.558336\n",
       "C    0.100256\n",
       "D   -0.632923\n",
       "dtype: float64"
      ]
     },
     "execution_count": 36,
     "metadata": {},
     "output_type": "execute_result"
    }
   ],
   "source": [
    "df.mean()"
   ]
  },
  {
   "cell_type": "code",
   "execution_count": 37,
   "metadata": {},
   "outputs": [
    {
     "data": {
      "text/plain": [
       "2020-03-01    0.221459\n",
       "2020-03-02   -0.721834\n",
       "2020-03-03   -0.634333\n",
       "2020-03-04   -0.894145\n",
       "2020-03-05   -1.016630\n",
       "2020-03-06   -0.231546\n",
       "2020-03-07    0.533977\n",
       "2020-03-08   -0.159175\n",
       "2020-03-09   -0.099336\n",
       "2020-03-10   -0.420606\n",
       "Freq: D, dtype: float64"
      ]
     },
     "execution_count": 37,
     "metadata": {},
     "output_type": "execute_result"
    }
   ],
   "source": [
    "df.mean(1)"
   ]
  },
  {
   "cell_type": "code",
   "execution_count": 38,
   "metadata": {},
   "outputs": [],
   "source": [
    "s = pd.Series([1,2,3,np.nan,4,5,6,7,8,9], index=d).shift(2)"
   ]
  },
  {
   "cell_type": "code",
   "execution_count": 39,
   "metadata": {},
   "outputs": [
    {
     "data": {
      "text/plain": [
       "2020-03-01    NaN\n",
       "2020-03-02    NaN\n",
       "2020-03-03    1.0\n",
       "2020-03-04    2.0\n",
       "2020-03-05    3.0\n",
       "2020-03-06    NaN\n",
       "2020-03-07    4.0\n",
       "2020-03-08    5.0\n",
       "2020-03-09    6.0\n",
       "2020-03-10    7.0\n",
       "Freq: D, dtype: float64"
      ]
     },
     "execution_count": 39,
     "metadata": {},
     "output_type": "execute_result"
    }
   ],
   "source": [
    "s"
   ]
  },
  {
   "cell_type": "code",
   "execution_count": 40,
   "metadata": {},
   "outputs": [
    {
     "data": {
      "text/html": [
       "<div>\n",
       "<style scoped>\n",
       "    .dataframe tbody tr th:only-of-type {\n",
       "        vertical-align: middle;\n",
       "    }\n",
       "\n",
       "    .dataframe tbody tr th {\n",
       "        vertical-align: top;\n",
       "    }\n",
       "\n",
       "    .dataframe thead th {\n",
       "        text-align: right;\n",
       "    }\n",
       "</style>\n",
       "<table border=\"1\" class=\"dataframe\">\n",
       "  <thead>\n",
       "    <tr style=\"text-align: right;\">\n",
       "      <th></th>\n",
       "      <th>A</th>\n",
       "      <th>B</th>\n",
       "      <th>C</th>\n",
       "      <th>D</th>\n",
       "    </tr>\n",
       "  </thead>\n",
       "  <tbody>\n",
       "    <tr>\n",
       "      <th>2020-03-01</th>\n",
       "      <td>NaN</td>\n",
       "      <td>NaN</td>\n",
       "      <td>NaN</td>\n",
       "      <td>NaN</td>\n",
       "    </tr>\n",
       "    <tr>\n",
       "      <th>2020-03-02</th>\n",
       "      <td>NaN</td>\n",
       "      <td>NaN</td>\n",
       "      <td>NaN</td>\n",
       "      <td>NaN</td>\n",
       "    </tr>\n",
       "    <tr>\n",
       "      <th>2020-03-03</th>\n",
       "      <td>-2.048930</td>\n",
       "      <td>-1.005403</td>\n",
       "      <td>-2.268762</td>\n",
       "      <td>-1.214236</td>\n",
       "    </tr>\n",
       "    <tr>\n",
       "      <th>2020-03-04</th>\n",
       "      <td>-2.505915</td>\n",
       "      <td>-1.933246</td>\n",
       "      <td>-3.143280</td>\n",
       "      <td>-3.994140</td>\n",
       "    </tr>\n",
       "    <tr>\n",
       "      <th>2020-03-05</th>\n",
       "      <td>-4.856638</td>\n",
       "      <td>-6.231653</td>\n",
       "      <td>-1.256313</td>\n",
       "      <td>-3.721915</td>\n",
       "    </tr>\n",
       "    <tr>\n",
       "      <th>2020-03-06</th>\n",
       "      <td>NaN</td>\n",
       "      <td>NaN</td>\n",
       "      <td>NaN</td>\n",
       "      <td>NaN</td>\n",
       "    </tr>\n",
       "    <tr>\n",
       "      <th>2020-03-07</th>\n",
       "      <td>-3.378944</td>\n",
       "      <td>-3.332971</td>\n",
       "      <td>-2.884591</td>\n",
       "      <td>-4.267587</td>\n",
       "    </tr>\n",
       "    <tr>\n",
       "      <th>2020-03-08</th>\n",
       "      <td>-5.598637</td>\n",
       "      <td>-5.330759</td>\n",
       "      <td>-3.623521</td>\n",
       "      <td>-6.083784</td>\n",
       "    </tr>\n",
       "    <tr>\n",
       "      <th>2020-03-09</th>\n",
       "      <td>-6.280665</td>\n",
       "      <td>-6.690525</td>\n",
       "      <td>-5.698440</td>\n",
       "      <td>-5.727715</td>\n",
       "    </tr>\n",
       "    <tr>\n",
       "      <th>2020-03-10</th>\n",
       "      <td>-5.871725</td>\n",
       "      <td>-8.096287</td>\n",
       "      <td>-7.213912</td>\n",
       "      <td>-8.500499</td>\n",
       "    </tr>\n",
       "  </tbody>\n",
       "</table>\n",
       "</div>"
      ],
      "text/plain": [
       "                   A         B         C         D\n",
       "2020-03-01       NaN       NaN       NaN       NaN\n",
       "2020-03-02       NaN       NaN       NaN       NaN\n",
       "2020-03-03 -2.048930 -1.005403 -2.268762 -1.214236\n",
       "2020-03-04 -2.505915 -1.933246 -3.143280 -3.994140\n",
       "2020-03-05 -4.856638 -6.231653 -1.256313 -3.721915\n",
       "2020-03-06       NaN       NaN       NaN       NaN\n",
       "2020-03-07 -3.378944 -3.332971 -2.884591 -4.267587\n",
       "2020-03-08 -5.598637 -5.330759 -3.623521 -6.083784\n",
       "2020-03-09 -6.280665 -6.690525 -5.698440 -5.727715\n",
       "2020-03-10 -5.871725 -8.096287 -7.213912 -8.500499"
      ]
     },
     "execution_count": 40,
     "metadata": {},
     "output_type": "execute_result"
    }
   ],
   "source": [
    "df.sub(s, axis='index')"
   ]
  },
  {
   "cell_type": "code",
   "execution_count": 41,
   "metadata": {},
   "outputs": [
    {
     "data": {
      "text/html": [
       "<div>\n",
       "<style scoped>\n",
       "    .dataframe tbody tr th:only-of-type {\n",
       "        vertical-align: middle;\n",
       "    }\n",
       "\n",
       "    .dataframe tbody tr th {\n",
       "        vertical-align: top;\n",
       "    }\n",
       "\n",
       "    .dataframe thead th {\n",
       "        text-align: right;\n",
       "    }\n",
       "</style>\n",
       "<table border=\"1\" class=\"dataframe\">\n",
       "  <thead>\n",
       "    <tr style=\"text-align: right;\">\n",
       "      <th></th>\n",
       "      <th>A</th>\n",
       "      <th>B</th>\n",
       "      <th>C</th>\n",
       "      <th>D</th>\n",
       "    </tr>\n",
       "  </thead>\n",
       "  <tbody>\n",
       "    <tr>\n",
       "      <th>2020-03-01</th>\n",
       "      <td>0.169885</td>\n",
       "      <td>0.556044</td>\n",
       "      <td>-0.494149</td>\n",
       "      <td>0.654055</td>\n",
       "    </tr>\n",
       "    <tr>\n",
       "      <th>2020-03-02</th>\n",
       "      <td>-1.283801</td>\n",
       "      <td>-0.795727</td>\n",
       "      <td>0.176935</td>\n",
       "      <td>-0.984743</td>\n",
       "    </tr>\n",
       "    <tr>\n",
       "      <th>2020-03-03</th>\n",
       "      <td>-1.048930</td>\n",
       "      <td>-0.005403</td>\n",
       "      <td>-1.268762</td>\n",
       "      <td>-0.214236</td>\n",
       "    </tr>\n",
       "    <tr>\n",
       "      <th>2020-03-04</th>\n",
       "      <td>-0.505915</td>\n",
       "      <td>0.066754</td>\n",
       "      <td>-1.143280</td>\n",
       "      <td>-1.994140</td>\n",
       "    </tr>\n",
       "    <tr>\n",
       "      <th>2020-03-05</th>\n",
       "      <td>-1.856638</td>\n",
       "      <td>-3.231653</td>\n",
       "      <td>1.743687</td>\n",
       "      <td>-0.721915</td>\n",
       "    </tr>\n",
       "    <tr>\n",
       "      <th>2020-03-06</th>\n",
       "      <td>0.876719</td>\n",
       "      <td>-0.722835</td>\n",
       "      <td>-0.591404</td>\n",
       "      <td>-0.488666</td>\n",
       "    </tr>\n",
       "    <tr>\n",
       "      <th>2020-03-07</th>\n",
       "      <td>0.621056</td>\n",
       "      <td>0.667029</td>\n",
       "      <td>1.115409</td>\n",
       "      <td>-0.267587</td>\n",
       "    </tr>\n",
       "    <tr>\n",
       "      <th>2020-03-08</th>\n",
       "      <td>-0.598637</td>\n",
       "      <td>-0.330759</td>\n",
       "      <td>1.376479</td>\n",
       "      <td>-1.083784</td>\n",
       "    </tr>\n",
       "    <tr>\n",
       "      <th>2020-03-09</th>\n",
       "      <td>-0.280665</td>\n",
       "      <td>-0.690525</td>\n",
       "      <td>0.301560</td>\n",
       "      <td>0.272285</td>\n",
       "    </tr>\n",
       "    <tr>\n",
       "      <th>2020-03-10</th>\n",
       "      <td>1.128275</td>\n",
       "      <td>-1.096287</td>\n",
       "      <td>-0.213912</td>\n",
       "      <td>-1.500499</td>\n",
       "    </tr>\n",
       "  </tbody>\n",
       "</table>\n",
       "</div>"
      ],
      "text/plain": [
       "                   A         B         C         D\n",
       "2020-03-01  0.169885  0.556044 -0.494149  0.654055\n",
       "2020-03-02 -1.283801 -0.795727  0.176935 -0.984743\n",
       "2020-03-03 -1.048930 -0.005403 -1.268762 -0.214236\n",
       "2020-03-04 -0.505915  0.066754 -1.143280 -1.994140\n",
       "2020-03-05 -1.856638 -3.231653  1.743687 -0.721915\n",
       "2020-03-06  0.876719 -0.722835 -0.591404 -0.488666\n",
       "2020-03-07  0.621056  0.667029  1.115409 -0.267587\n",
       "2020-03-08 -0.598637 -0.330759  1.376479 -1.083784\n",
       "2020-03-09 -0.280665 -0.690525  0.301560  0.272285\n",
       "2020-03-10  1.128275 -1.096287 -0.213912 -1.500499"
      ]
     },
     "execution_count": 41,
     "metadata": {},
     "output_type": "execute_result"
    }
   ],
   "source": [
    "df"
   ]
  },
  {
   "cell_type": "code",
   "execution_count": 42,
   "metadata": {},
   "outputs": [
    {
     "data": {
      "text/html": [
       "<div>\n",
       "<style scoped>\n",
       "    .dataframe tbody tr th:only-of-type {\n",
       "        vertical-align: middle;\n",
       "    }\n",
       "\n",
       "    .dataframe tbody tr th {\n",
       "        vertical-align: top;\n",
       "    }\n",
       "\n",
       "    .dataframe thead th {\n",
       "        text-align: right;\n",
       "    }\n",
       "</style>\n",
       "<table border=\"1\" class=\"dataframe\">\n",
       "  <thead>\n",
       "    <tr style=\"text-align: right;\">\n",
       "      <th></th>\n",
       "      <th>A</th>\n",
       "      <th>B</th>\n",
       "      <th>C</th>\n",
       "      <th>D</th>\n",
       "    </tr>\n",
       "  </thead>\n",
       "  <tbody>\n",
       "    <tr>\n",
       "      <th>2020-03-01</th>\n",
       "      <td>0.169885</td>\n",
       "      <td>0.556044</td>\n",
       "      <td>-0.494149</td>\n",
       "      <td>0.654055</td>\n",
       "    </tr>\n",
       "    <tr>\n",
       "      <th>2020-03-02</th>\n",
       "      <td>-1.113917</td>\n",
       "      <td>-0.239683</td>\n",
       "      <td>-0.317215</td>\n",
       "      <td>-0.330688</td>\n",
       "    </tr>\n",
       "    <tr>\n",
       "      <th>2020-03-03</th>\n",
       "      <td>-2.162846</td>\n",
       "      <td>-0.245086</td>\n",
       "      <td>-1.585977</td>\n",
       "      <td>-0.544924</td>\n",
       "    </tr>\n",
       "    <tr>\n",
       "      <th>2020-03-04</th>\n",
       "      <td>-2.668762</td>\n",
       "      <td>-0.178331</td>\n",
       "      <td>-2.729257</td>\n",
       "      <td>-2.539063</td>\n",
       "    </tr>\n",
       "    <tr>\n",
       "      <th>2020-03-05</th>\n",
       "      <td>-4.525400</td>\n",
       "      <td>-3.409984</td>\n",
       "      <td>-0.985570</td>\n",
       "      <td>-3.260978</td>\n",
       "    </tr>\n",
       "    <tr>\n",
       "      <th>2020-03-06</th>\n",
       "      <td>-3.648681</td>\n",
       "      <td>-4.132819</td>\n",
       "      <td>-1.576973</td>\n",
       "      <td>-3.749644</td>\n",
       "    </tr>\n",
       "    <tr>\n",
       "      <th>2020-03-07</th>\n",
       "      <td>-3.027625</td>\n",
       "      <td>-3.465790</td>\n",
       "      <td>-0.461564</td>\n",
       "      <td>-4.017231</td>\n",
       "    </tr>\n",
       "    <tr>\n",
       "      <th>2020-03-08</th>\n",
       "      <td>-3.626262</td>\n",
       "      <td>-3.796549</td>\n",
       "      <td>0.914915</td>\n",
       "      <td>-5.101015</td>\n",
       "    </tr>\n",
       "    <tr>\n",
       "      <th>2020-03-09</th>\n",
       "      <td>-3.906927</td>\n",
       "      <td>-4.487074</td>\n",
       "      <td>1.216475</td>\n",
       "      <td>-4.828730</td>\n",
       "    </tr>\n",
       "    <tr>\n",
       "      <th>2020-03-10</th>\n",
       "      <td>-2.778652</td>\n",
       "      <td>-5.583362</td>\n",
       "      <td>1.002563</td>\n",
       "      <td>-6.329229</td>\n",
       "    </tr>\n",
       "  </tbody>\n",
       "</table>\n",
       "</div>"
      ],
      "text/plain": [
       "                   A         B         C         D\n",
       "2020-03-01  0.169885  0.556044 -0.494149  0.654055\n",
       "2020-03-02 -1.113917 -0.239683 -0.317215 -0.330688\n",
       "2020-03-03 -2.162846 -0.245086 -1.585977 -0.544924\n",
       "2020-03-04 -2.668762 -0.178331 -2.729257 -2.539063\n",
       "2020-03-05 -4.525400 -3.409984 -0.985570 -3.260978\n",
       "2020-03-06 -3.648681 -4.132819 -1.576973 -3.749644\n",
       "2020-03-07 -3.027625 -3.465790 -0.461564 -4.017231\n",
       "2020-03-08 -3.626262 -3.796549  0.914915 -5.101015\n",
       "2020-03-09 -3.906927 -4.487074  1.216475 -4.828730\n",
       "2020-03-10 -2.778652 -5.583362  1.002563 -6.329229"
      ]
     },
     "execution_count": 42,
     "metadata": {},
     "output_type": "execute_result"
    }
   ],
   "source": [
    "#Apply a few functions \n",
    "df.apply(np.cumsum)"
   ]
  },
  {
   "cell_type": "code",
   "execution_count": 43,
   "metadata": {},
   "outputs": [
    {
     "data": {
      "text/plain": [
       "A    2.984914\n",
       "B    3.898682\n",
       "C    3.012449\n",
       "D    2.648195\n",
       "dtype: float64"
      ]
     },
     "execution_count": 43,
     "metadata": {},
     "output_type": "execute_result"
    }
   ],
   "source": [
    "df.apply(lambda x: x.max() - x.min())"
   ]
  },
  {
   "cell_type": "code",
   "execution_count": 44,
   "metadata": {},
   "outputs": [
    {
     "data": {
      "text/plain": [
       "7.0    1\n",
       "6.0    1\n",
       "5.0    1\n",
       "4.0    1\n",
       "3.0    1\n",
       "2.0    1\n",
       "1.0    1\n",
       "dtype: int64"
      ]
     },
     "execution_count": 44,
     "metadata": {},
     "output_type": "execute_result"
    }
   ],
   "source": [
    "#Histogram - representation of distribution of data \n",
    "#results in one histogram per column \n",
    "s.value_counts()"
   ]
  },
  {
   "cell_type": "code",
   "execution_count": 45,
   "metadata": {},
   "outputs": [],
   "source": [
    "#String processing methods - SANJANA RK\n",
    "s = pd.Series(['sanjana','python','jupyter',np.nan,'perfect','world'])"
   ]
  },
  {
   "cell_type": "code",
   "execution_count": 46,
   "metadata": {},
   "outputs": [
    {
     "data": {
      "text/plain": [
       "0    SANJANA\n",
       "1     PYTHON\n",
       "2    JUPYTER\n",
       "3        NaN\n",
       "4    PERFECT\n",
       "5      WORLD\n",
       "dtype: object"
      ]
     },
     "execution_count": 46,
     "metadata": {},
     "output_type": "execute_result"
    }
   ],
   "source": [
    "s.str.upper()"
   ]
  },
  {
   "cell_type": "code",
   "execution_count": 47,
   "metadata": {},
   "outputs": [],
   "source": [
    "#Merging \n",
    "df = pd.DataFrame(np.random.randn(10,4))"
   ]
  },
  {
   "cell_type": "code",
   "execution_count": 48,
   "metadata": {},
   "outputs": [
    {
     "data": {
      "text/html": [
       "<div>\n",
       "<style scoped>\n",
       "    .dataframe tbody tr th:only-of-type {\n",
       "        vertical-align: middle;\n",
       "    }\n",
       "\n",
       "    .dataframe tbody tr th {\n",
       "        vertical-align: top;\n",
       "    }\n",
       "\n",
       "    .dataframe thead th {\n",
       "        text-align: right;\n",
       "    }\n",
       "</style>\n",
       "<table border=\"1\" class=\"dataframe\">\n",
       "  <thead>\n",
       "    <tr style=\"text-align: right;\">\n",
       "      <th></th>\n",
       "      <th>0</th>\n",
       "      <th>1</th>\n",
       "      <th>2</th>\n",
       "      <th>3</th>\n",
       "    </tr>\n",
       "  </thead>\n",
       "  <tbody>\n",
       "    <tr>\n",
       "      <th>0</th>\n",
       "      <td>-0.220679</td>\n",
       "      <td>-1.280015</td>\n",
       "      <td>1.557489</td>\n",
       "      <td>1.232604</td>\n",
       "    </tr>\n",
       "    <tr>\n",
       "      <th>1</th>\n",
       "      <td>0.748144</td>\n",
       "      <td>1.391705</td>\n",
       "      <td>0.324192</td>\n",
       "      <td>1.196753</td>\n",
       "    </tr>\n",
       "    <tr>\n",
       "      <th>2</th>\n",
       "      <td>-1.268650</td>\n",
       "      <td>0.370896</td>\n",
       "      <td>-1.202786</td>\n",
       "      <td>-1.567179</td>\n",
       "    </tr>\n",
       "    <tr>\n",
       "      <th>3</th>\n",
       "      <td>0.715069</td>\n",
       "      <td>0.440402</td>\n",
       "      <td>-1.313458</td>\n",
       "      <td>-1.178726</td>\n",
       "    </tr>\n",
       "    <tr>\n",
       "      <th>4</th>\n",
       "      <td>0.596041</td>\n",
       "      <td>2.097968</td>\n",
       "      <td>-1.132565</td>\n",
       "      <td>-0.287113</td>\n",
       "    </tr>\n",
       "    <tr>\n",
       "      <th>5</th>\n",
       "      <td>-0.361708</td>\n",
       "      <td>1.056337</td>\n",
       "      <td>-0.013882</td>\n",
       "      <td>0.967121</td>\n",
       "    </tr>\n",
       "    <tr>\n",
       "      <th>6</th>\n",
       "      <td>0.289927</td>\n",
       "      <td>0.296617</td>\n",
       "      <td>0.400790</td>\n",
       "      <td>-1.328512</td>\n",
       "    </tr>\n",
       "    <tr>\n",
       "      <th>7</th>\n",
       "      <td>1.265471</td>\n",
       "      <td>-1.126959</td>\n",
       "      <td>1.343113</td>\n",
       "      <td>-0.627892</td>\n",
       "    </tr>\n",
       "    <tr>\n",
       "      <th>8</th>\n",
       "      <td>0.200272</td>\n",
       "      <td>-0.342240</td>\n",
       "      <td>-0.647832</td>\n",
       "      <td>1.881603</td>\n",
       "    </tr>\n",
       "    <tr>\n",
       "      <th>9</th>\n",
       "      <td>2.150338</td>\n",
       "      <td>2.041357</td>\n",
       "      <td>-0.468863</td>\n",
       "      <td>-1.519601</td>\n",
       "    </tr>\n",
       "  </tbody>\n",
       "</table>\n",
       "</div>"
      ],
      "text/plain": [
       "          0         1         2         3\n",
       "0 -0.220679 -1.280015  1.557489  1.232604\n",
       "1  0.748144  1.391705  0.324192  1.196753\n",
       "2 -1.268650  0.370896 -1.202786 -1.567179\n",
       "3  0.715069  0.440402 -1.313458 -1.178726\n",
       "4  0.596041  2.097968 -1.132565 -0.287113\n",
       "5 -0.361708  1.056337 -0.013882  0.967121\n",
       "6  0.289927  0.296617  0.400790 -1.328512\n",
       "7  1.265471 -1.126959  1.343113 -0.627892\n",
       "8  0.200272 -0.342240 -0.647832  1.881603\n",
       "9  2.150338  2.041357 -0.468863 -1.519601"
      ]
     },
     "execution_count": 48,
     "metadata": {},
     "output_type": "execute_result"
    }
   ],
   "source": [
    "df"
   ]
  },
  {
   "cell_type": "code",
   "execution_count": 49,
   "metadata": {},
   "outputs": [],
   "source": [
    "df2 = [df[:3], df[3:7], df[7:]]"
   ]
  },
  {
   "cell_type": "code",
   "execution_count": 50,
   "metadata": {},
   "outputs": [
    {
     "data": {
      "text/plain": [
       "[          0         1         2         3\n",
       " 0 -0.220679 -1.280015  1.557489  1.232604\n",
       " 1  0.748144  1.391705  0.324192  1.196753\n",
       " 2 -1.268650  0.370896 -1.202786 -1.567179,\n",
       "           0         1         2         3\n",
       " 3  0.715069  0.440402 -1.313458 -1.178726\n",
       " 4  0.596041  2.097968 -1.132565 -0.287113\n",
       " 5 -0.361708  1.056337 -0.013882  0.967121\n",
       " 6  0.289927  0.296617  0.400790 -1.328512,\n",
       "           0         1         2         3\n",
       " 7  1.265471 -1.126959  1.343113 -0.627892\n",
       " 8  0.200272 -0.342240 -0.647832  1.881603\n",
       " 9  2.150338  2.041357 -0.468863 -1.519601]"
      ]
     },
     "execution_count": 50,
     "metadata": {},
     "output_type": "execute_result"
    }
   ],
   "source": [
    "df2"
   ]
  },
  {
   "cell_type": "code",
   "execution_count": 51,
   "metadata": {},
   "outputs": [
    {
     "data": {
      "text/html": [
       "<div>\n",
       "<style scoped>\n",
       "    .dataframe tbody tr th:only-of-type {\n",
       "        vertical-align: middle;\n",
       "    }\n",
       "\n",
       "    .dataframe tbody tr th {\n",
       "        vertical-align: top;\n",
       "    }\n",
       "\n",
       "    .dataframe thead th {\n",
       "        text-align: right;\n",
       "    }\n",
       "</style>\n",
       "<table border=\"1\" class=\"dataframe\">\n",
       "  <thead>\n",
       "    <tr style=\"text-align: right;\">\n",
       "      <th></th>\n",
       "      <th>0</th>\n",
       "      <th>1</th>\n",
       "      <th>2</th>\n",
       "      <th>3</th>\n",
       "    </tr>\n",
       "  </thead>\n",
       "  <tbody>\n",
       "    <tr>\n",
       "      <th>0</th>\n",
       "      <td>-0.220679</td>\n",
       "      <td>-1.280015</td>\n",
       "      <td>1.557489</td>\n",
       "      <td>1.232604</td>\n",
       "    </tr>\n",
       "    <tr>\n",
       "      <th>1</th>\n",
       "      <td>0.748144</td>\n",
       "      <td>1.391705</td>\n",
       "      <td>0.324192</td>\n",
       "      <td>1.196753</td>\n",
       "    </tr>\n",
       "    <tr>\n",
       "      <th>2</th>\n",
       "      <td>-1.268650</td>\n",
       "      <td>0.370896</td>\n",
       "      <td>-1.202786</td>\n",
       "      <td>-1.567179</td>\n",
       "    </tr>\n",
       "    <tr>\n",
       "      <th>3</th>\n",
       "      <td>0.715069</td>\n",
       "      <td>0.440402</td>\n",
       "      <td>-1.313458</td>\n",
       "      <td>-1.178726</td>\n",
       "    </tr>\n",
       "    <tr>\n",
       "      <th>4</th>\n",
       "      <td>0.596041</td>\n",
       "      <td>2.097968</td>\n",
       "      <td>-1.132565</td>\n",
       "      <td>-0.287113</td>\n",
       "    </tr>\n",
       "    <tr>\n",
       "      <th>5</th>\n",
       "      <td>-0.361708</td>\n",
       "      <td>1.056337</td>\n",
       "      <td>-0.013882</td>\n",
       "      <td>0.967121</td>\n",
       "    </tr>\n",
       "    <tr>\n",
       "      <th>6</th>\n",
       "      <td>0.289927</td>\n",
       "      <td>0.296617</td>\n",
       "      <td>0.400790</td>\n",
       "      <td>-1.328512</td>\n",
       "    </tr>\n",
       "    <tr>\n",
       "      <th>7</th>\n",
       "      <td>1.265471</td>\n",
       "      <td>-1.126959</td>\n",
       "      <td>1.343113</td>\n",
       "      <td>-0.627892</td>\n",
       "    </tr>\n",
       "    <tr>\n",
       "      <th>8</th>\n",
       "      <td>0.200272</td>\n",
       "      <td>-0.342240</td>\n",
       "      <td>-0.647832</td>\n",
       "      <td>1.881603</td>\n",
       "    </tr>\n",
       "    <tr>\n",
       "      <th>9</th>\n",
       "      <td>2.150338</td>\n",
       "      <td>2.041357</td>\n",
       "      <td>-0.468863</td>\n",
       "      <td>-1.519601</td>\n",
       "    </tr>\n",
       "  </tbody>\n",
       "</table>\n",
       "</div>"
      ],
      "text/plain": [
       "          0         1         2         3\n",
       "0 -0.220679 -1.280015  1.557489  1.232604\n",
       "1  0.748144  1.391705  0.324192  1.196753\n",
       "2 -1.268650  0.370896 -1.202786 -1.567179\n",
       "3  0.715069  0.440402 -1.313458 -1.178726\n",
       "4  0.596041  2.097968 -1.132565 -0.287113\n",
       "5 -0.361708  1.056337 -0.013882  0.967121\n",
       "6  0.289927  0.296617  0.400790 -1.328512\n",
       "7  1.265471 -1.126959  1.343113 -0.627892\n",
       "8  0.200272 -0.342240 -0.647832  1.881603\n",
       "9  2.150338  2.041357 -0.468863 -1.519601"
      ]
     },
     "execution_count": 51,
     "metadata": {},
     "output_type": "execute_result"
    }
   ],
   "source": [
    "pd.concat(df2)"
   ]
  },
  {
   "cell_type": "code",
   "execution_count": 52,
   "metadata": {},
   "outputs": [],
   "source": [
    "#Left and right join\n",
    "left = pd.DataFrame({'A':[1,2], 'B': [3,4]})"
   ]
  },
  {
   "cell_type": "code",
   "execution_count": 53,
   "metadata": {},
   "outputs": [],
   "source": [
    "right = pd.DataFrame({'A':[3,2], 'D':[4,5]})"
   ]
  },
  {
   "cell_type": "code",
   "execution_count": 54,
   "metadata": {},
   "outputs": [
    {
     "data": {
      "text/html": [
       "<div>\n",
       "<style scoped>\n",
       "    .dataframe tbody tr th:only-of-type {\n",
       "        vertical-align: middle;\n",
       "    }\n",
       "\n",
       "    .dataframe tbody tr th {\n",
       "        vertical-align: top;\n",
       "    }\n",
       "\n",
       "    .dataframe thead th {\n",
       "        text-align: right;\n",
       "    }\n",
       "</style>\n",
       "<table border=\"1\" class=\"dataframe\">\n",
       "  <thead>\n",
       "    <tr style=\"text-align: right;\">\n",
       "      <th></th>\n",
       "      <th>A</th>\n",
       "      <th>B</th>\n",
       "    </tr>\n",
       "  </thead>\n",
       "  <tbody>\n",
       "    <tr>\n",
       "      <th>0</th>\n",
       "      <td>1</td>\n",
       "      <td>3</td>\n",
       "    </tr>\n",
       "    <tr>\n",
       "      <th>1</th>\n",
       "      <td>2</td>\n",
       "      <td>4</td>\n",
       "    </tr>\n",
       "  </tbody>\n",
       "</table>\n",
       "</div>"
      ],
      "text/plain": [
       "   A  B\n",
       "0  1  3\n",
       "1  2  4"
      ]
     },
     "execution_count": 54,
     "metadata": {},
     "output_type": "execute_result"
    }
   ],
   "source": [
    "left"
   ]
  },
  {
   "cell_type": "code",
   "execution_count": 55,
   "metadata": {},
   "outputs": [
    {
     "data": {
      "text/html": [
       "<div>\n",
       "<style scoped>\n",
       "    .dataframe tbody tr th:only-of-type {\n",
       "        vertical-align: middle;\n",
       "    }\n",
       "\n",
       "    .dataframe tbody tr th {\n",
       "        vertical-align: top;\n",
       "    }\n",
       "\n",
       "    .dataframe thead th {\n",
       "        text-align: right;\n",
       "    }\n",
       "</style>\n",
       "<table border=\"1\" class=\"dataframe\">\n",
       "  <thead>\n",
       "    <tr style=\"text-align: right;\">\n",
       "      <th></th>\n",
       "      <th>A</th>\n",
       "      <th>D</th>\n",
       "    </tr>\n",
       "  </thead>\n",
       "  <tbody>\n",
       "    <tr>\n",
       "      <th>0</th>\n",
       "      <td>3</td>\n",
       "      <td>4</td>\n",
       "    </tr>\n",
       "    <tr>\n",
       "      <th>1</th>\n",
       "      <td>2</td>\n",
       "      <td>5</td>\n",
       "    </tr>\n",
       "  </tbody>\n",
       "</table>\n",
       "</div>"
      ],
      "text/plain": [
       "   A  D\n",
       "0  3  4\n",
       "1  2  5"
      ]
     },
     "execution_count": 55,
     "metadata": {},
     "output_type": "execute_result"
    }
   ],
   "source": [
    "right"
   ]
  },
  {
   "cell_type": "code",
   "execution_count": 56,
   "metadata": {},
   "outputs": [
    {
     "data": {
      "text/html": [
       "<div>\n",
       "<style scoped>\n",
       "    .dataframe tbody tr th:only-of-type {\n",
       "        vertical-align: middle;\n",
       "    }\n",
       "\n",
       "    .dataframe tbody tr th {\n",
       "        vertical-align: top;\n",
       "    }\n",
       "\n",
       "    .dataframe thead th {\n",
       "        text-align: right;\n",
       "    }\n",
       "</style>\n",
       "<table border=\"1\" class=\"dataframe\">\n",
       "  <thead>\n",
       "    <tr style=\"text-align: right;\">\n",
       "      <th></th>\n",
       "      <th>A</th>\n",
       "      <th>B</th>\n",
       "      <th>D</th>\n",
       "    </tr>\n",
       "  </thead>\n",
       "  <tbody>\n",
       "    <tr>\n",
       "      <th>0</th>\n",
       "      <td>2</td>\n",
       "      <td>4</td>\n",
       "      <td>5</td>\n",
       "    </tr>\n",
       "  </tbody>\n",
       "</table>\n",
       "</div>"
      ],
      "text/plain": [
       "   A  B  D\n",
       "0  2  4  5"
      ]
     },
     "execution_count": 56,
     "metadata": {},
     "output_type": "execute_result"
    }
   ],
   "source": [
    "pd.merge(left,right, on='A')"
   ]
  },
  {
   "cell_type": "code",
   "execution_count": 57,
   "metadata": {},
   "outputs": [
    {
     "data": {
      "text/html": [
       "<div>\n",
       "<style scoped>\n",
       "    .dataframe tbody tr th:only-of-type {\n",
       "        vertical-align: middle;\n",
       "    }\n",
       "\n",
       "    .dataframe tbody tr th {\n",
       "        vertical-align: top;\n",
       "    }\n",
       "\n",
       "    .dataframe thead th {\n",
       "        text-align: right;\n",
       "    }\n",
       "</style>\n",
       "<table border=\"1\" class=\"dataframe\">\n",
       "  <thead>\n",
       "    <tr style=\"text-align: right;\">\n",
       "      <th></th>\n",
       "      <th>0</th>\n",
       "      <th>1</th>\n",
       "      <th>2</th>\n",
       "      <th>3</th>\n",
       "    </tr>\n",
       "  </thead>\n",
       "  <tbody>\n",
       "    <tr>\n",
       "      <th>0</th>\n",
       "      <td>-0.220679</td>\n",
       "      <td>-1.280015</td>\n",
       "      <td>1.557489</td>\n",
       "      <td>1.232604</td>\n",
       "    </tr>\n",
       "    <tr>\n",
       "      <th>1</th>\n",
       "      <td>0.748144</td>\n",
       "      <td>1.391705</td>\n",
       "      <td>0.324192</td>\n",
       "      <td>1.196753</td>\n",
       "    </tr>\n",
       "    <tr>\n",
       "      <th>2</th>\n",
       "      <td>-1.268650</td>\n",
       "      <td>0.370896</td>\n",
       "      <td>-1.202786</td>\n",
       "      <td>-1.567179</td>\n",
       "    </tr>\n",
       "    <tr>\n",
       "      <th>3</th>\n",
       "      <td>0.715069</td>\n",
       "      <td>0.440402</td>\n",
       "      <td>-1.313458</td>\n",
       "      <td>-1.178726</td>\n",
       "    </tr>\n",
       "    <tr>\n",
       "      <th>4</th>\n",
       "      <td>0.596041</td>\n",
       "      <td>2.097968</td>\n",
       "      <td>-1.132565</td>\n",
       "      <td>-0.287113</td>\n",
       "    </tr>\n",
       "    <tr>\n",
       "      <th>5</th>\n",
       "      <td>-0.361708</td>\n",
       "      <td>1.056337</td>\n",
       "      <td>-0.013882</td>\n",
       "      <td>0.967121</td>\n",
       "    </tr>\n",
       "    <tr>\n",
       "      <th>6</th>\n",
       "      <td>0.289927</td>\n",
       "      <td>0.296617</td>\n",
       "      <td>0.400790</td>\n",
       "      <td>-1.328512</td>\n",
       "    </tr>\n",
       "    <tr>\n",
       "      <th>7</th>\n",
       "      <td>1.265471</td>\n",
       "      <td>-1.126959</td>\n",
       "      <td>1.343113</td>\n",
       "      <td>-0.627892</td>\n",
       "    </tr>\n",
       "    <tr>\n",
       "      <th>8</th>\n",
       "      <td>0.200272</td>\n",
       "      <td>-0.342240</td>\n",
       "      <td>-0.647832</td>\n",
       "      <td>1.881603</td>\n",
       "    </tr>\n",
       "    <tr>\n",
       "      <th>9</th>\n",
       "      <td>2.150338</td>\n",
       "      <td>2.041357</td>\n",
       "      <td>-0.468863</td>\n",
       "      <td>-1.519601</td>\n",
       "    </tr>\n",
       "  </tbody>\n",
       "</table>\n",
       "</div>"
      ],
      "text/plain": [
       "          0         1         2         3\n",
       "0 -0.220679 -1.280015  1.557489  1.232604\n",
       "1  0.748144  1.391705  0.324192  1.196753\n",
       "2 -1.268650  0.370896 -1.202786 -1.567179\n",
       "3  0.715069  0.440402 -1.313458 -1.178726\n",
       "4  0.596041  2.097968 -1.132565 -0.287113\n",
       "5 -0.361708  1.056337 -0.013882  0.967121\n",
       "6  0.289927  0.296617  0.400790 -1.328512\n",
       "7  1.265471 -1.126959  1.343113 -0.627892\n",
       "8  0.200272 -0.342240 -0.647832  1.881603\n",
       "9  2.150338  2.041357 -0.468863 -1.519601"
      ]
     },
     "execution_count": 57,
     "metadata": {},
     "output_type": "execute_result"
    }
   ],
   "source": [
    "#Grouping\n",
    "df"
   ]
  },
  {
   "cell_type": "code",
   "execution_count": 58,
   "metadata": {},
   "outputs": [
    {
     "data": {
      "text/html": [
       "<div>\n",
       "<style scoped>\n",
       "    .dataframe tbody tr th:only-of-type {\n",
       "        vertical-align: middle;\n",
       "    }\n",
       "\n",
       "    .dataframe tbody tr th {\n",
       "        vertical-align: top;\n",
       "    }\n",
       "\n",
       "    .dataframe thead th {\n",
       "        text-align: right;\n",
       "    }\n",
       "</style>\n",
       "<table border=\"1\" class=\"dataframe\">\n",
       "  <thead>\n",
       "    <tr style=\"text-align: right;\">\n",
       "      <th></th>\n",
       "      <th>0</th>\n",
       "      <th>1</th>\n",
       "      <th>3</th>\n",
       "    </tr>\n",
       "    <tr>\n",
       "      <th>2</th>\n",
       "      <th></th>\n",
       "      <th></th>\n",
       "      <th></th>\n",
       "    </tr>\n",
       "  </thead>\n",
       "  <tbody>\n",
       "    <tr>\n",
       "      <th>-1.313458</th>\n",
       "      <td>0.715069</td>\n",
       "      <td>0.440402</td>\n",
       "      <td>-1.178726</td>\n",
       "    </tr>\n",
       "    <tr>\n",
       "      <th>-1.202786</th>\n",
       "      <td>-1.268650</td>\n",
       "      <td>0.370896</td>\n",
       "      <td>-1.567179</td>\n",
       "    </tr>\n",
       "    <tr>\n",
       "      <th>-1.132565</th>\n",
       "      <td>0.596041</td>\n",
       "      <td>2.097968</td>\n",
       "      <td>-0.287113</td>\n",
       "    </tr>\n",
       "    <tr>\n",
       "      <th>-0.647832</th>\n",
       "      <td>0.200272</td>\n",
       "      <td>-0.342240</td>\n",
       "      <td>1.881603</td>\n",
       "    </tr>\n",
       "    <tr>\n",
       "      <th>-0.468863</th>\n",
       "      <td>2.150338</td>\n",
       "      <td>2.041357</td>\n",
       "      <td>-1.519601</td>\n",
       "    </tr>\n",
       "    <tr>\n",
       "      <th>-0.013882</th>\n",
       "      <td>-0.361708</td>\n",
       "      <td>1.056337</td>\n",
       "      <td>0.967121</td>\n",
       "    </tr>\n",
       "    <tr>\n",
       "      <th>0.324192</th>\n",
       "      <td>0.748144</td>\n",
       "      <td>1.391705</td>\n",
       "      <td>1.196753</td>\n",
       "    </tr>\n",
       "    <tr>\n",
       "      <th>0.400790</th>\n",
       "      <td>0.289927</td>\n",
       "      <td>0.296617</td>\n",
       "      <td>-1.328512</td>\n",
       "    </tr>\n",
       "    <tr>\n",
       "      <th>1.343113</th>\n",
       "      <td>1.265471</td>\n",
       "      <td>-1.126959</td>\n",
       "      <td>-0.627892</td>\n",
       "    </tr>\n",
       "    <tr>\n",
       "      <th>1.557489</th>\n",
       "      <td>-0.220679</td>\n",
       "      <td>-1.280015</td>\n",
       "      <td>1.232604</td>\n",
       "    </tr>\n",
       "  </tbody>\n",
       "</table>\n",
       "</div>"
      ],
      "text/plain": [
       "                  0         1         3\n",
       "2                                      \n",
       "-1.313458  0.715069  0.440402 -1.178726\n",
       "-1.202786 -1.268650  0.370896 -1.567179\n",
       "-1.132565  0.596041  2.097968 -0.287113\n",
       "-0.647832  0.200272 -0.342240  1.881603\n",
       "-0.468863  2.150338  2.041357 -1.519601\n",
       "-0.013882 -0.361708  1.056337  0.967121\n",
       " 0.324192  0.748144  1.391705  1.196753\n",
       " 0.400790  0.289927  0.296617 -1.328512\n",
       " 1.343113  1.265471 -1.126959 -0.627892\n",
       " 1.557489 -0.220679 -1.280015  1.232604"
      ]
     },
     "execution_count": 58,
     "metadata": {},
     "output_type": "execute_result"
    }
   ],
   "source": [
    "df.groupby(2).sum()"
   ]
  },
  {
   "cell_type": "code",
   "execution_count": 59,
   "metadata": {},
   "outputs": [
    {
     "data": {
      "text/html": [
       "<div>\n",
       "<style scoped>\n",
       "    .dataframe tbody tr th:only-of-type {\n",
       "        vertical-align: middle;\n",
       "    }\n",
       "\n",
       "    .dataframe tbody tr th {\n",
       "        vertical-align: top;\n",
       "    }\n",
       "\n",
       "    .dataframe thead th {\n",
       "        text-align: right;\n",
       "    }\n",
       "</style>\n",
       "<table border=\"1\" class=\"dataframe\">\n",
       "  <thead>\n",
       "    <tr style=\"text-align: right;\">\n",
       "      <th></th>\n",
       "      <th></th>\n",
       "      <th>0</th>\n",
       "      <th>1</th>\n",
       "    </tr>\n",
       "    <tr>\n",
       "      <th>2</th>\n",
       "      <th>3</th>\n",
       "      <th></th>\n",
       "      <th></th>\n",
       "    </tr>\n",
       "  </thead>\n",
       "  <tbody>\n",
       "    <tr>\n",
       "      <th>-1.313458</th>\n",
       "      <th>-1.178726</th>\n",
       "      <td>0.715069</td>\n",
       "      <td>0.440402</td>\n",
       "    </tr>\n",
       "    <tr>\n",
       "      <th>-1.202786</th>\n",
       "      <th>-1.567179</th>\n",
       "      <td>-1.268650</td>\n",
       "      <td>0.370896</td>\n",
       "    </tr>\n",
       "    <tr>\n",
       "      <th>-1.132565</th>\n",
       "      <th>-0.287113</th>\n",
       "      <td>0.596041</td>\n",
       "      <td>2.097968</td>\n",
       "    </tr>\n",
       "    <tr>\n",
       "      <th>-0.647832</th>\n",
       "      <th>1.881603</th>\n",
       "      <td>0.200272</td>\n",
       "      <td>-0.342240</td>\n",
       "    </tr>\n",
       "    <tr>\n",
       "      <th>-0.468863</th>\n",
       "      <th>-1.519601</th>\n",
       "      <td>2.150338</td>\n",
       "      <td>2.041357</td>\n",
       "    </tr>\n",
       "    <tr>\n",
       "      <th>-0.013882</th>\n",
       "      <th>0.967121</th>\n",
       "      <td>-0.361708</td>\n",
       "      <td>1.056337</td>\n",
       "    </tr>\n",
       "    <tr>\n",
       "      <th>0.324192</th>\n",
       "      <th>1.196753</th>\n",
       "      <td>0.748144</td>\n",
       "      <td>1.391705</td>\n",
       "    </tr>\n",
       "    <tr>\n",
       "      <th>0.400790</th>\n",
       "      <th>-1.328512</th>\n",
       "      <td>0.289927</td>\n",
       "      <td>0.296617</td>\n",
       "    </tr>\n",
       "    <tr>\n",
       "      <th>1.343113</th>\n",
       "      <th>-0.627892</th>\n",
       "      <td>1.265471</td>\n",
       "      <td>-1.126959</td>\n",
       "    </tr>\n",
       "    <tr>\n",
       "      <th>1.557489</th>\n",
       "      <th>1.232604</th>\n",
       "      <td>-0.220679</td>\n",
       "      <td>-1.280015</td>\n",
       "    </tr>\n",
       "  </tbody>\n",
       "</table>\n",
       "</div>"
      ],
      "text/plain": [
       "                            0         1\n",
       "2         3                            \n",
       "-1.313458 -1.178726  0.715069  0.440402\n",
       "-1.202786 -1.567179 -1.268650  0.370896\n",
       "-1.132565 -0.287113  0.596041  2.097968\n",
       "-0.647832  1.881603  0.200272 -0.342240\n",
       "-0.468863 -1.519601  2.150338  2.041357\n",
       "-0.013882  0.967121 -0.361708  1.056337\n",
       " 0.324192  1.196753  0.748144  1.391705\n",
       " 0.400790 -1.328512  0.289927  0.296617\n",
       " 1.343113 -0.627892  1.265471 -1.126959\n",
       " 1.557489  1.232604 -0.220679 -1.280015"
      ]
     },
     "execution_count": 59,
     "metadata": {},
     "output_type": "execute_result"
    }
   ],
   "source": [
    "df.groupby([2,3]).sum()"
   ]
  },
  {
   "cell_type": "code",
   "execution_count": 60,
   "metadata": {},
   "outputs": [],
   "source": [
    "#Returns reshaped index using stack \n",
    "my_tuple = list(zip(*[[1,2,3,4,5,17,18,19], [11,12,13,6,7,8,9,10]]))"
   ]
  },
  {
   "cell_type": "code",
   "execution_count": 61,
   "metadata": {},
   "outputs": [],
   "source": [
    "index = pd.MultiIndex.from_tuples(my_tuple, names= ['First','Second'])"
   ]
  },
  {
   "cell_type": "code",
   "execution_count": 63,
   "metadata": {},
   "outputs": [],
   "source": [
    "df = pd.DataFrame(np.random.randn(8,2), index = index, columns=['A','B'])"
   ]
  },
  {
   "cell_type": "code",
   "execution_count": 64,
   "metadata": {},
   "outputs": [],
   "source": [
    "df2 = df[:4]"
   ]
  },
  {
   "cell_type": "code",
   "execution_count": 65,
   "metadata": {},
   "outputs": [
    {
     "data": {
      "text/html": [
       "<div>\n",
       "<style scoped>\n",
       "    .dataframe tbody tr th:only-of-type {\n",
       "        vertical-align: middle;\n",
       "    }\n",
       "\n",
       "    .dataframe tbody tr th {\n",
       "        vertical-align: top;\n",
       "    }\n",
       "\n",
       "    .dataframe thead th {\n",
       "        text-align: right;\n",
       "    }\n",
       "</style>\n",
       "<table border=\"1\" class=\"dataframe\">\n",
       "  <thead>\n",
       "    <tr style=\"text-align: right;\">\n",
       "      <th></th>\n",
       "      <th></th>\n",
       "      <th>A</th>\n",
       "      <th>B</th>\n",
       "    </tr>\n",
       "    <tr>\n",
       "      <th>First</th>\n",
       "      <th>Second</th>\n",
       "      <th></th>\n",
       "      <th></th>\n",
       "    </tr>\n",
       "  </thead>\n",
       "  <tbody>\n",
       "    <tr>\n",
       "      <th>1</th>\n",
       "      <th>11</th>\n",
       "      <td>0.690549</td>\n",
       "      <td>-0.902069</td>\n",
       "    </tr>\n",
       "    <tr>\n",
       "      <th>2</th>\n",
       "      <th>12</th>\n",
       "      <td>-1.284592</td>\n",
       "      <td>2.305042</td>\n",
       "    </tr>\n",
       "    <tr>\n",
       "      <th>3</th>\n",
       "      <th>13</th>\n",
       "      <td>0.573973</td>\n",
       "      <td>-0.032499</td>\n",
       "    </tr>\n",
       "    <tr>\n",
       "      <th>4</th>\n",
       "      <th>6</th>\n",
       "      <td>0.988692</td>\n",
       "      <td>-0.375210</td>\n",
       "    </tr>\n",
       "  </tbody>\n",
       "</table>\n",
       "</div>"
      ],
      "text/plain": [
       "                     A         B\n",
       "First Second                    \n",
       "1     11      0.690549 -0.902069\n",
       "2     12     -1.284592  2.305042\n",
       "3     13      0.573973 -0.032499\n",
       "4     6       0.988692 -0.375210"
      ]
     },
     "execution_count": 65,
     "metadata": {},
     "output_type": "execute_result"
    }
   ],
   "source": [
    "df2"
   ]
  },
  {
   "cell_type": "code",
   "execution_count": 70,
   "metadata": {
    "scrolled": true
   },
   "outputs": [],
   "source": [
    "a = df2.stack()"
   ]
  },
  {
   "cell_type": "code",
   "execution_count": 71,
   "metadata": {},
   "outputs": [
    {
     "data": {
      "text/html": [
       "<div>\n",
       "<style scoped>\n",
       "    .dataframe tbody tr th:only-of-type {\n",
       "        vertical-align: middle;\n",
       "    }\n",
       "\n",
       "    .dataframe tbody tr th {\n",
       "        vertical-align: top;\n",
       "    }\n",
       "\n",
       "    .dataframe thead th {\n",
       "        text-align: right;\n",
       "    }\n",
       "</style>\n",
       "<table border=\"1\" class=\"dataframe\">\n",
       "  <thead>\n",
       "    <tr style=\"text-align: right;\">\n",
       "      <th></th>\n",
       "      <th></th>\n",
       "      <th>A</th>\n",
       "      <th>B</th>\n",
       "    </tr>\n",
       "    <tr>\n",
       "      <th>First</th>\n",
       "      <th>Second</th>\n",
       "      <th></th>\n",
       "      <th></th>\n",
       "    </tr>\n",
       "  </thead>\n",
       "  <tbody>\n",
       "    <tr>\n",
       "      <th>1</th>\n",
       "      <th>11</th>\n",
       "      <td>0.690549</td>\n",
       "      <td>-0.902069</td>\n",
       "    </tr>\n",
       "    <tr>\n",
       "      <th>2</th>\n",
       "      <th>12</th>\n",
       "      <td>-1.284592</td>\n",
       "      <td>2.305042</td>\n",
       "    </tr>\n",
       "    <tr>\n",
       "      <th>3</th>\n",
       "      <th>13</th>\n",
       "      <td>0.573973</td>\n",
       "      <td>-0.032499</td>\n",
       "    </tr>\n",
       "    <tr>\n",
       "      <th>4</th>\n",
       "      <th>6</th>\n",
       "      <td>0.988692</td>\n",
       "      <td>-0.375210</td>\n",
       "    </tr>\n",
       "  </tbody>\n",
       "</table>\n",
       "</div>"
      ],
      "text/plain": [
       "                     A         B\n",
       "First Second                    \n",
       "1     11      0.690549 -0.902069\n",
       "2     12     -1.284592  2.305042\n",
       "3     13      0.573973 -0.032499\n",
       "4     6       0.988692 -0.375210"
      ]
     },
     "execution_count": 71,
     "metadata": {},
     "output_type": "execute_result"
    }
   ],
   "source": [
    "a.unstack()"
   ]
  },
  {
   "cell_type": "code",
   "execution_count": 74,
   "metadata": {},
   "outputs": [],
   "source": [
    "df = pd.DataFrame({'A':['a','b','c','d'] * 3,\n",
    "                    'B': ['A','B','C'] * 4,\n",
    "                    'C': ['P','P','P','Q','Q','Q'] * 2,\n",
    "                    'D': np.random.randn(12),\n",
    "                    'E': np.random.randn(12)})"
   ]
  },
  {
   "cell_type": "code",
   "execution_count": 75,
   "metadata": {},
   "outputs": [
    {
     "data": {
      "text/html": [
       "<div>\n",
       "<style scoped>\n",
       "    .dataframe tbody tr th:only-of-type {\n",
       "        vertical-align: middle;\n",
       "    }\n",
       "\n",
       "    .dataframe tbody tr th {\n",
       "        vertical-align: top;\n",
       "    }\n",
       "\n",
       "    .dataframe thead th {\n",
       "        text-align: right;\n",
       "    }\n",
       "</style>\n",
       "<table border=\"1\" class=\"dataframe\">\n",
       "  <thead>\n",
       "    <tr style=\"text-align: right;\">\n",
       "      <th></th>\n",
       "      <th>A</th>\n",
       "      <th>B</th>\n",
       "      <th>C</th>\n",
       "      <th>D</th>\n",
       "      <th>E</th>\n",
       "    </tr>\n",
       "  </thead>\n",
       "  <tbody>\n",
       "    <tr>\n",
       "      <th>0</th>\n",
       "      <td>a</td>\n",
       "      <td>A</td>\n",
       "      <td>P</td>\n",
       "      <td>0.883159</td>\n",
       "      <td>-0.125656</td>\n",
       "    </tr>\n",
       "    <tr>\n",
       "      <th>1</th>\n",
       "      <td>b</td>\n",
       "      <td>B</td>\n",
       "      <td>P</td>\n",
       "      <td>0.267168</td>\n",
       "      <td>-1.622539</td>\n",
       "    </tr>\n",
       "    <tr>\n",
       "      <th>2</th>\n",
       "      <td>c</td>\n",
       "      <td>C</td>\n",
       "      <td>P</td>\n",
       "      <td>1.254403</td>\n",
       "      <td>0.752582</td>\n",
       "    </tr>\n",
       "    <tr>\n",
       "      <th>3</th>\n",
       "      <td>d</td>\n",
       "      <td>A</td>\n",
       "      <td>Q</td>\n",
       "      <td>0.436068</td>\n",
       "      <td>-1.862009</td>\n",
       "    </tr>\n",
       "    <tr>\n",
       "      <th>4</th>\n",
       "      <td>a</td>\n",
       "      <td>B</td>\n",
       "      <td>Q</td>\n",
       "      <td>0.458220</td>\n",
       "      <td>-0.779752</td>\n",
       "    </tr>\n",
       "    <tr>\n",
       "      <th>5</th>\n",
       "      <td>b</td>\n",
       "      <td>C</td>\n",
       "      <td>Q</td>\n",
       "      <td>-0.607209</td>\n",
       "      <td>0.858233</td>\n",
       "    </tr>\n",
       "    <tr>\n",
       "      <th>6</th>\n",
       "      <td>c</td>\n",
       "      <td>A</td>\n",
       "      <td>P</td>\n",
       "      <td>-1.475815</td>\n",
       "      <td>0.805480</td>\n",
       "    </tr>\n",
       "    <tr>\n",
       "      <th>7</th>\n",
       "      <td>d</td>\n",
       "      <td>B</td>\n",
       "      <td>P</td>\n",
       "      <td>0.383068</td>\n",
       "      <td>0.547295</td>\n",
       "    </tr>\n",
       "    <tr>\n",
       "      <th>8</th>\n",
       "      <td>a</td>\n",
       "      <td>C</td>\n",
       "      <td>P</td>\n",
       "      <td>-0.723595</td>\n",
       "      <td>-0.598531</td>\n",
       "    </tr>\n",
       "    <tr>\n",
       "      <th>9</th>\n",
       "      <td>b</td>\n",
       "      <td>A</td>\n",
       "      <td>Q</td>\n",
       "      <td>1.609224</td>\n",
       "      <td>0.339987</td>\n",
       "    </tr>\n",
       "    <tr>\n",
       "      <th>10</th>\n",
       "      <td>c</td>\n",
       "      <td>B</td>\n",
       "      <td>Q</td>\n",
       "      <td>0.359862</td>\n",
       "      <td>-0.643700</td>\n",
       "    </tr>\n",
       "    <tr>\n",
       "      <th>11</th>\n",
       "      <td>d</td>\n",
       "      <td>C</td>\n",
       "      <td>Q</td>\n",
       "      <td>1.602707</td>\n",
       "      <td>0.579165</td>\n",
       "    </tr>\n",
       "  </tbody>\n",
       "</table>\n",
       "</div>"
      ],
      "text/plain": [
       "    A  B  C         D         E\n",
       "0   a  A  P  0.883159 -0.125656\n",
       "1   b  B  P  0.267168 -1.622539\n",
       "2   c  C  P  1.254403  0.752582\n",
       "3   d  A  Q  0.436068 -1.862009\n",
       "4   a  B  Q  0.458220 -0.779752\n",
       "5   b  C  Q -0.607209  0.858233\n",
       "6   c  A  P -1.475815  0.805480\n",
       "7   d  B  P  0.383068  0.547295\n",
       "8   a  C  P -0.723595 -0.598531\n",
       "9   b  A  Q  1.609224  0.339987\n",
       "10  c  B  Q  0.359862 -0.643700\n",
       "11  d  C  Q  1.602707  0.579165"
      ]
     },
     "execution_count": 75,
     "metadata": {},
     "output_type": "execute_result"
    }
   ],
   "source": [
    "df"
   ]
  },
  {
   "cell_type": "code",
   "execution_count": 77,
   "metadata": {},
   "outputs": [
    {
     "data": {
      "text/html": [
       "<div>\n",
       "<style scoped>\n",
       "    .dataframe tbody tr th:only-of-type {\n",
       "        vertical-align: middle;\n",
       "    }\n",
       "\n",
       "    .dataframe tbody tr th {\n",
       "        vertical-align: top;\n",
       "    }\n",
       "\n",
       "    .dataframe thead th {\n",
       "        text-align: right;\n",
       "    }\n",
       "</style>\n",
       "<table border=\"1\" class=\"dataframe\">\n",
       "  <thead>\n",
       "    <tr style=\"text-align: right;\">\n",
       "      <th></th>\n",
       "      <th>C</th>\n",
       "      <th>P</th>\n",
       "      <th>Q</th>\n",
       "    </tr>\n",
       "    <tr>\n",
       "      <th>A</th>\n",
       "      <th>B</th>\n",
       "      <th></th>\n",
       "      <th></th>\n",
       "    </tr>\n",
       "  </thead>\n",
       "  <tbody>\n",
       "    <tr>\n",
       "      <th rowspan=\"3\" valign=\"top\">a</th>\n",
       "      <th>A</th>\n",
       "      <td>0.883159</td>\n",
       "      <td>NaN</td>\n",
       "    </tr>\n",
       "    <tr>\n",
       "      <th>B</th>\n",
       "      <td>NaN</td>\n",
       "      <td>0.458220</td>\n",
       "    </tr>\n",
       "    <tr>\n",
       "      <th>C</th>\n",
       "      <td>-0.723595</td>\n",
       "      <td>NaN</td>\n",
       "    </tr>\n",
       "    <tr>\n",
       "      <th rowspan=\"3\" valign=\"top\">b</th>\n",
       "      <th>A</th>\n",
       "      <td>NaN</td>\n",
       "      <td>1.609224</td>\n",
       "    </tr>\n",
       "    <tr>\n",
       "      <th>B</th>\n",
       "      <td>0.267168</td>\n",
       "      <td>NaN</td>\n",
       "    </tr>\n",
       "    <tr>\n",
       "      <th>C</th>\n",
       "      <td>NaN</td>\n",
       "      <td>-0.607209</td>\n",
       "    </tr>\n",
       "    <tr>\n",
       "      <th rowspan=\"3\" valign=\"top\">c</th>\n",
       "      <th>A</th>\n",
       "      <td>-1.475815</td>\n",
       "      <td>NaN</td>\n",
       "    </tr>\n",
       "    <tr>\n",
       "      <th>B</th>\n",
       "      <td>NaN</td>\n",
       "      <td>0.359862</td>\n",
       "    </tr>\n",
       "    <tr>\n",
       "      <th>C</th>\n",
       "      <td>1.254403</td>\n",
       "      <td>NaN</td>\n",
       "    </tr>\n",
       "    <tr>\n",
       "      <th rowspan=\"3\" valign=\"top\">d</th>\n",
       "      <th>A</th>\n",
       "      <td>NaN</td>\n",
       "      <td>0.436068</td>\n",
       "    </tr>\n",
       "    <tr>\n",
       "      <th>B</th>\n",
       "      <td>0.383068</td>\n",
       "      <td>NaN</td>\n",
       "    </tr>\n",
       "    <tr>\n",
       "      <th>C</th>\n",
       "      <td>NaN</td>\n",
       "      <td>1.602707</td>\n",
       "    </tr>\n",
       "  </tbody>\n",
       "</table>\n",
       "</div>"
      ],
      "text/plain": [
       "C           P         Q\n",
       "A B                    \n",
       "a A  0.883159       NaN\n",
       "  B       NaN  0.458220\n",
       "  C -0.723595       NaN\n",
       "b A       NaN  1.609224\n",
       "  B  0.267168       NaN\n",
       "  C       NaN -0.607209\n",
       "c A -1.475815       NaN\n",
       "  B       NaN  0.359862\n",
       "  C  1.254403       NaN\n",
       "d A       NaN  0.436068\n",
       "  B  0.383068       NaN\n",
       "  C       NaN  1.602707"
      ]
     },
     "execution_count": 77,
     "metadata": {},
     "output_type": "execute_result"
    }
   ],
   "source": [
    "pd.pivot_table(df, values='D', index=['A','B'], columns = ['C'])"
   ]
  },
  {
   "cell_type": "code",
   "execution_count": 78,
   "metadata": {},
   "outputs": [],
   "source": [
    "#Time Series and Categorial Data \n",
    "dates = pd.date_range('3/3/2020', periods = 100, freq = 's')"
   ]
  },
  {
   "cell_type": "code",
   "execution_count": 79,
   "metadata": {},
   "outputs": [
    {
     "data": {
      "text/plain": [
       "DatetimeIndex(['2020-03-01 00:00:00', '2020-03-01 00:00:01',\n",
       "               '2020-03-01 00:00:02', '2020-03-01 00:00:03',\n",
       "               '2020-03-01 00:00:04', '2020-03-01 00:00:05',\n",
       "               '2020-03-01 00:00:06', '2020-03-01 00:00:07',\n",
       "               '2020-03-01 00:00:08', '2020-03-01 00:00:09',\n",
       "               '2020-03-01 00:00:10', '2020-03-01 00:00:11',\n",
       "               '2020-03-01 00:00:12', '2020-03-01 00:00:13',\n",
       "               '2020-03-01 00:00:14', '2020-03-01 00:00:15',\n",
       "               '2020-03-01 00:00:16', '2020-03-01 00:00:17',\n",
       "               '2020-03-01 00:00:18', '2020-03-01 00:00:19',\n",
       "               '2020-03-01 00:00:20', '2020-03-01 00:00:21',\n",
       "               '2020-03-01 00:00:22', '2020-03-01 00:00:23',\n",
       "               '2020-03-01 00:00:24', '2020-03-01 00:00:25',\n",
       "               '2020-03-01 00:00:26', '2020-03-01 00:00:27',\n",
       "               '2020-03-01 00:00:28', '2020-03-01 00:00:29',\n",
       "               '2020-03-01 00:00:30', '2020-03-01 00:00:31',\n",
       "               '2020-03-01 00:00:32', '2020-03-01 00:00:33',\n",
       "               '2020-03-01 00:00:34', '2020-03-01 00:00:35',\n",
       "               '2020-03-01 00:00:36', '2020-03-01 00:00:37',\n",
       "               '2020-03-01 00:00:38', '2020-03-01 00:00:39',\n",
       "               '2020-03-01 00:00:40', '2020-03-01 00:00:41',\n",
       "               '2020-03-01 00:00:42', '2020-03-01 00:00:43',\n",
       "               '2020-03-01 00:00:44', '2020-03-01 00:00:45',\n",
       "               '2020-03-01 00:00:46', '2020-03-01 00:00:47',\n",
       "               '2020-03-01 00:00:48', '2020-03-01 00:00:49',\n",
       "               '2020-03-01 00:00:50', '2020-03-01 00:00:51',\n",
       "               '2020-03-01 00:00:52', '2020-03-01 00:00:53',\n",
       "               '2020-03-01 00:00:54', '2020-03-01 00:00:55',\n",
       "               '2020-03-01 00:00:56', '2020-03-01 00:00:57',\n",
       "               '2020-03-01 00:00:58', '2020-03-01 00:00:59',\n",
       "               '2020-03-01 00:01:00', '2020-03-01 00:01:01',\n",
       "               '2020-03-01 00:01:02', '2020-03-01 00:01:03',\n",
       "               '2020-03-01 00:01:04', '2020-03-01 00:01:05',\n",
       "               '2020-03-01 00:01:06', '2020-03-01 00:01:07',\n",
       "               '2020-03-01 00:01:08', '2020-03-01 00:01:09',\n",
       "               '2020-03-01 00:01:10', '2020-03-01 00:01:11',\n",
       "               '2020-03-01 00:01:12', '2020-03-01 00:01:13',\n",
       "               '2020-03-01 00:01:14', '2020-03-01 00:01:15',\n",
       "               '2020-03-01 00:01:16', '2020-03-01 00:01:17',\n",
       "               '2020-03-01 00:01:18', '2020-03-01 00:01:19',\n",
       "               '2020-03-01 00:01:20', '2020-03-01 00:01:21',\n",
       "               '2020-03-01 00:01:22', '2020-03-01 00:01:23',\n",
       "               '2020-03-01 00:01:24', '2020-03-01 00:01:25',\n",
       "               '2020-03-01 00:01:26', '2020-03-01 00:01:27',\n",
       "               '2020-03-01 00:01:28', '2020-03-01 00:01:29',\n",
       "               '2020-03-01 00:01:30', '2020-03-01 00:01:31',\n",
       "               '2020-03-01 00:01:32', '2020-03-01 00:01:33',\n",
       "               '2020-03-01 00:01:34', '2020-03-01 00:01:35',\n",
       "               '2020-03-01 00:01:36', '2020-03-01 00:01:37',\n",
       "               '2020-03-01 00:01:38', '2020-03-01 00:01:39'],\n",
       "              dtype='datetime64[ns]', freq='S')"
      ]
     },
     "execution_count": 79,
     "metadata": {},
     "output_type": "execute_result"
    }
   ],
   "source": [
    "dates"
   ]
  },
  {
   "cell_type": "code",
   "execution_count": 85,
   "metadata": {},
   "outputs": [],
   "source": [
    "ts = pd.Series(np.random.randint(0,500,len(dates)), dates)"
   ]
  },
  {
   "cell_type": "code",
   "execution_count": 86,
   "metadata": {},
   "outputs": [
    {
     "data": {
      "text/plain": [
       "2020-03-01    23724\n",
       "Freq: 5T, dtype: int32"
      ]
     },
     "execution_count": 86,
     "metadata": {},
     "output_type": "execute_result"
    }
   ],
   "source": [
    "ts.resample('5min').sum()"
   ]
  },
  {
   "cell_type": "code",
   "execution_count": 87,
   "metadata": {},
   "outputs": [],
   "source": [
    "#Time zone representation\n",
    "dates = pd.date_range('3/3/2020 00:00', periods = 5, freq = 's') "
   ]
  },
  {
   "cell_type": "code",
   "execution_count": 89,
   "metadata": {},
   "outputs": [],
   "source": [
    "ts = pd.Series(np.random.randn(len(dates)), dates)"
   ]
  },
  {
   "cell_type": "code",
   "execution_count": 90,
   "metadata": {},
   "outputs": [
    {
     "data": {
      "text/plain": [
       "2020-03-03 00:00:00   -0.731219\n",
       "2020-03-03 00:00:01    0.248852\n",
       "2020-03-03 00:00:02    0.067519\n",
       "2020-03-03 00:00:03    1.581122\n",
       "2020-03-03 00:00:04   -0.727606\n",
       "Freq: S, dtype: float64"
      ]
     },
     "execution_count": 90,
     "metadata": {},
     "output_type": "execute_result"
    }
   ],
   "source": [
    "ts"
   ]
  },
  {
   "cell_type": "code",
   "execution_count": 91,
   "metadata": {},
   "outputs": [],
   "source": [
    "ts_utc = ts.tz_localize('UTC')"
   ]
  },
  {
   "cell_type": "code",
   "execution_count": 92,
   "metadata": {},
   "outputs": [
    {
     "data": {
      "text/plain": [
       "2020-03-03 00:00:00+00:00   -0.731219\n",
       "2020-03-03 00:00:01+00:00    0.248852\n",
       "2020-03-03 00:00:02+00:00    0.067519\n",
       "2020-03-03 00:00:03+00:00    1.581122\n",
       "2020-03-03 00:00:04+00:00   -0.727606\n",
       "Freq: S, dtype: float64"
      ]
     },
     "execution_count": 92,
     "metadata": {},
     "output_type": "execute_result"
    }
   ],
   "source": [
    "ts_utc"
   ]
  },
  {
   "cell_type": "code",
   "execution_count": 93,
   "metadata": {},
   "outputs": [
    {
     "data": {
      "text/plain": [
       "2020-03-02 19:00:00-05:00   -0.731219\n",
       "2020-03-02 19:00:01-05:00    0.248852\n",
       "2020-03-02 19:00:02-05:00    0.067519\n",
       "2020-03-02 19:00:03-05:00    1.581122\n",
       "2020-03-02 19:00:04-05:00   -0.727606\n",
       "Freq: S, dtype: float64"
      ]
     },
     "execution_count": 93,
     "metadata": {},
     "output_type": "execute_result"
    }
   ],
   "source": [
    "ts_utc.tz_convert('US/Eastern')"
   ]
  },
  {
   "cell_type": "code",
   "execution_count": 95,
   "metadata": {},
   "outputs": [],
   "source": [
    "dates = pd.date_range('3/3/2020', periods = 5, freq = 'M')"
   ]
  },
  {
   "cell_type": "code",
   "execution_count": 96,
   "metadata": {},
   "outputs": [],
   "source": [
    "ts = pd.Series(np.random.randn(len(dates)), dates)"
   ]
  },
  {
   "cell_type": "code",
   "execution_count": 97,
   "metadata": {},
   "outputs": [
    {
     "data": {
      "text/plain": [
       "2020-03-31   -0.823866\n",
       "2020-04-30   -0.718672\n",
       "2020-05-31   -1.347830\n",
       "2020-06-30    0.147611\n",
       "2020-07-31    1.530937\n",
       "Freq: M, dtype: float64"
      ]
     },
     "execution_count": 97,
     "metadata": {},
     "output_type": "execute_result"
    }
   ],
   "source": [
    "ts"
   ]
  },
  {
   "cell_type": "code",
   "execution_count": 98,
   "metadata": {},
   "outputs": [],
   "source": [
    "ps = ts.to_period()"
   ]
  },
  {
   "cell_type": "code",
   "execution_count": 99,
   "metadata": {},
   "outputs": [
    {
     "data": {
      "text/plain": [
       "2020-03   -0.823866\n",
       "2020-04   -0.718672\n",
       "2020-05   -1.347830\n",
       "2020-06    0.147611\n",
       "2020-07    1.530937\n",
       "Freq: M, dtype: float64"
      ]
     },
     "execution_count": 99,
     "metadata": {},
     "output_type": "execute_result"
    }
   ],
   "source": [
    "ps"
   ]
  },
  {
   "cell_type": "code",
   "execution_count": 100,
   "metadata": {},
   "outputs": [
    {
     "data": {
      "text/plain": [
       "2020-03-01   -0.823866\n",
       "2020-04-01   -0.718672\n",
       "2020-05-01   -1.347830\n",
       "2020-06-01    0.147611\n",
       "2020-07-01    1.530937\n",
       "Freq: MS, dtype: float64"
      ]
     },
     "execution_count": 100,
     "metadata": {},
     "output_type": "execute_result"
    }
   ],
   "source": [
    "ps.to_timestamp()"
   ]
  },
  {
   "cell_type": "code",
   "execution_count": 104,
   "metadata": {},
   "outputs": [],
   "source": [
    "\n",
    "#Categoricals\n",
    "df = pd.DataFrame({'id': [1,2,3,4,5,6],\n",
    "                   \"grade\": ['a','b','c','b','a','e']\n",
    "                             })"
   ]
  },
  {
   "cell_type": "code",
   "execution_count": 105,
   "metadata": {},
   "outputs": [
    {
     "data": {
      "text/html": [
       "<div>\n",
       "<style scoped>\n",
       "    .dataframe tbody tr th:only-of-type {\n",
       "        vertical-align: middle;\n",
       "    }\n",
       "\n",
       "    .dataframe tbody tr th {\n",
       "        vertical-align: top;\n",
       "    }\n",
       "\n",
       "    .dataframe thead th {\n",
       "        text-align: right;\n",
       "    }\n",
       "</style>\n",
       "<table border=\"1\" class=\"dataframe\">\n",
       "  <thead>\n",
       "    <tr style=\"text-align: right;\">\n",
       "      <th></th>\n",
       "      <th>id</th>\n",
       "      <th>grade</th>\n",
       "    </tr>\n",
       "  </thead>\n",
       "  <tbody>\n",
       "    <tr>\n",
       "      <th>0</th>\n",
       "      <td>1</td>\n",
       "      <td>a</td>\n",
       "    </tr>\n",
       "    <tr>\n",
       "      <th>1</th>\n",
       "      <td>2</td>\n",
       "      <td>b</td>\n",
       "    </tr>\n",
       "    <tr>\n",
       "      <th>2</th>\n",
       "      <td>3</td>\n",
       "      <td>c</td>\n",
       "    </tr>\n",
       "    <tr>\n",
       "      <th>3</th>\n",
       "      <td>4</td>\n",
       "      <td>b</td>\n",
       "    </tr>\n",
       "    <tr>\n",
       "      <th>4</th>\n",
       "      <td>5</td>\n",
       "      <td>a</td>\n",
       "    </tr>\n",
       "    <tr>\n",
       "      <th>5</th>\n",
       "      <td>6</td>\n",
       "      <td>e</td>\n",
       "    </tr>\n",
       "  </tbody>\n",
       "</table>\n",
       "</div>"
      ],
      "text/plain": [
       "   id grade\n",
       "0   1     a\n",
       "1   2     b\n",
       "2   3     c\n",
       "3   4     b\n",
       "4   5     a\n",
       "5   6     e"
      ]
     },
     "execution_count": 105,
     "metadata": {},
     "output_type": "execute_result"
    }
   ],
   "source": [
    "df"
   ]
  },
  {
   "cell_type": "code",
   "execution_count": 106,
   "metadata": {},
   "outputs": [],
   "source": [
    "df['Grade'] = df['grade'].astype(\"category\")"
   ]
  },
  {
   "cell_type": "code",
   "execution_count": 109,
   "metadata": {},
   "outputs": [],
   "source": [
    "df[\"Grade\"].cat.categories = ['good','very bad', 'very good', 'excellent']"
   ]
  },
  {
   "cell_type": "code",
   "execution_count": 110,
   "metadata": {},
   "outputs": [],
   "source": [
    "df['Grade'] = df[\"Grade\"].cat.set_categories([\"very good\",\"bad\",\"very bad\",\"good\",\"better luck next time\",\"outstanding\"])"
   ]
  },
  {
   "cell_type": "code",
   "execution_count": 111,
   "metadata": {},
   "outputs": [
    {
     "data": {
      "text/plain": [
       "0         good\n",
       "1     very bad\n",
       "2    very good\n",
       "3     very bad\n",
       "4         good\n",
       "5          NaN\n",
       "Name: Grade, dtype: category\n",
       "Categories (6, object): [very good, bad, very bad, good, better luck next time, outstanding]"
      ]
     },
     "execution_count": 111,
     "metadata": {},
     "output_type": "execute_result"
    }
   ],
   "source": [
    "df[\"Grade\"]"
   ]
  },
  {
   "cell_type": "code",
   "execution_count": 112,
   "metadata": {},
   "outputs": [],
   "source": [
    "import matplotlib.pyplot as plt"
   ]
  },
  {
   "cell_type": "code",
   "execution_count": 113,
   "metadata": {},
   "outputs": [],
   "source": [
    "plt.close('all')"
   ]
  },
  {
   "cell_type": "code",
   "execution_count": 114,
   "metadata": {},
   "outputs": [],
   "source": [
    "ts = pd.Series(np.random.randn(500), index = pd.date_range('1/2/2020',periods=500))"
   ]
  },
  {
   "cell_type": "code",
   "execution_count": 115,
   "metadata": {},
   "outputs": [],
   "source": [
    "ts = ts.cumsum()"
   ]
  },
  {
   "cell_type": "code",
   "execution_count": 117,
   "metadata": {},
   "outputs": [
    {
     "data": {
      "text/plain": [
       "<pandas.plotting._core.PlotAccessor object at 0x000002AFBC1E1408>"
      ]
     },
     "execution_count": 117,
     "metadata": {},
     "output_type": "execute_result"
    }
   ],
   "source": [
    "ts.plot"
   ]
  },
  {
   "cell_type": "code",
   "execution_count": 118,
   "metadata": {},
   "outputs": [
    {
     "data": {
      "text/plain": [
       "2020-01-02   -0.814206\n",
       "2020-01-03   -1.435675\n",
       "2020-01-04   -1.776010\n",
       "2020-01-05   -1.367583\n",
       "2020-01-06   -1.106420\n",
       "                ...   \n",
       "2021-05-11   -0.015181\n",
       "2021-05-12    0.998712\n",
       "2021-05-13    1.556202\n",
       "2021-05-14    0.875758\n",
       "2021-05-15    1.477539\n",
       "Freq: D, Length: 500, dtype: float64"
      ]
     },
     "execution_count": 118,
     "metadata": {},
     "output_type": "execute_result"
    }
   ],
   "source": [
    "ts"
   ]
  },
  {
   "cell_type": "code",
   "execution_count": 119,
   "metadata": {},
   "outputs": [],
   "source": [
    "ts.to_csv(\"ts.csv\")"
   ]
  },
  {
   "cell_type": "code",
   "execution_count": null,
   "metadata": {},
   "outputs": [],
   "source": []
  }
 ],
 "metadata": {
  "kernelspec": {
   "display_name": "Python 3",
   "language": "python",
   "name": "python3"
  },
  "language_info": {
   "codemirror_mode": {
    "name": "ipython",
    "version": 3
   },
   "file_extension": ".py",
   "mimetype": "text/x-python",
   "name": "python",
   "nbconvert_exporter": "python",
   "pygments_lexer": "ipython3",
   "version": "3.7.6"
  }
 },
 "nbformat": 4,
 "nbformat_minor": 4
}
